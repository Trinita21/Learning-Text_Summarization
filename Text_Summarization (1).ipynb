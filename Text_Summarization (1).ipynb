{
  "nbformat": 4,
  "nbformat_minor": 0,
  "metadata": {
    "colab": {
      "name": "Text_Summarization.ipynb",
      "provenance": []
    },
    "kernelspec": {
      "name": "python3",
      "display_name": "Python 3"
    },
    "language_info": {
      "name": "python"
    }
  },
  "cells": [
    {
      "cell_type": "markdown",
      "source": [
        "#Loading important dependencies"
      ],
      "metadata": {
        "id": "Q_FYtLZBgLVb"
      }
    },
    {
      "cell_type": "code",
      "execution_count": null,
      "metadata": {
        "colab": {
          "base_uri": "https://localhost:8080/"
        },
        "id": "YVhN1O5cvPcA",
        "outputId": "b2a28077-7e21-438b-e1ec-94ccacfac880"
      },
      "outputs": [
        {
          "output_type": "stream",
          "name": "stdout",
          "text": [
            "Requirement already satisfied: PyPDF2 in /usr/local/lib/python3.7/dist-packages (1.26.0)\n"
          ]
        }
      ],
      "source": [
        "!pip install PyPDF2"
      ]
    },
    {
      "cell_type": "code",
      "source": [
        "import numpy as np\n",
        "import PyPDF2\n",
        "from spacy.lang.en import English\n",
        "from sklearn.feature_extraction.text import TfidfVectorizer\n",
        "import re "
      ],
      "metadata": {
        "id": "nwIkisYV_WIS"
      },
      "execution_count": null,
      "outputs": []
    },
    {
      "cell_type": "code",
      "source": [
        "pdf_file = open('/content/DeepSentiPeer.pdf','rb')"
      ],
      "metadata": {
        "id": "8MW-iB7y_WLc"
      },
      "execution_count": null,
      "outputs": []
    },
    {
      "cell_type": "code",
      "source": [
        "pdf_read = PyPDF2.PdfFileReader(pdf_file)"
      ],
      "metadata": {
        "id": "s3YjozRK_WO6"
      },
      "execution_count": null,
      "outputs": []
    },
    {
      "cell_type": "code",
      "source": [
        "pdf_read.numPages"
      ],
      "metadata": {
        "colab": {
          "base_uri": "https://localhost:8080/"
        },
        "id": "Mwne4VqZ_WSD",
        "outputId": "0719262a-287c-4480-a6af-519e673e59a4"
      },
      "execution_count": null,
      "outputs": [
        {
          "output_type": "execute_result",
          "data": {
            "text/plain": [
              "11"
            ]
          },
          "metadata": {},
          "execution_count": 70
        }
      ]
    },
    {
      "cell_type": "code",
      "source": [
        "page = pdf_read.getPage(0)"
      ],
      "metadata": {
        "id": "Ary0NSjo_WVc"
      },
      "execution_count": null,
      "outputs": []
    },
    {
      "cell_type": "code",
      "source": [
        "page.extractText()"
      ],
      "metadata": {
        "colab": {
          "base_uri": "https://localhost:8080/",
          "height": 140
        },
        "id": "R95d2AnqBm_u",
        "outputId": "6472b034-e93b-44b1-c832-ff67fdd586e2"
      },
      "execution_count": null,
      "outputs": [
        {
          "output_type": "execute_result",
          "data": {
            "text/plain": [
              "'DeepSentiPeer\\n:HarnessingSentimentinReviewTextsToRecommend\\nPeerReviewDecisions\\nTirthankarGhosal,RajeevVerma,AsifEkbal,PushpakBhattacharyya\\nDepartmentofComputerScienceandEngineering\\nIndianInstituteofTechnologyPatna,India\\n(tirthankar.pcs16,rajeev.ee15,asif,pb)@iitp.ac.in\\nAbstract\\nAutomaticallyvalidatingaresearchartefactis\\noneofthefrontiersinIntelligence\\n(AI)thatdirectlybringsitclosetocompeting\\nwithhumanintellectandintuition.Although\\ncriticizedsometimes,theexistingpeerreview\\nsystemstillstandsasthebenchmarkofre-\\nsearchvalidation.Thepresent-daypeerreview\\nprocessisnotstraightforwardanddemands\\nprofounddomainknowledge,expertise,and\\nintelligenceofhumanreviewer(s),whichis\\nsomewhatelusivewiththecurrentstateofAI.\\nHowever,thepeerreviewtexts,whichcontains\\nrichsentimentinformationofthereviewer,re-\\nhis/heroverallattitudetowardsthere-\\nsearchinthepaper,couldbeavaluableen-\\ntitytopredicttheacceptanceorrejectionof\\nthemanuscriptunderconsideration.Herein\\nthiswork,weinvestigatetheroleofreviewers\\nsentimentsembeddedwithinpeerreviewtexts\\ntopredictthepeerreviewoutcome.Ourpro-\\nposeddeepneuralarchitecturetakesintoac-\\ncountthreechannelsofinformation:thepa-\\nper,thecorrespondingreviews,andthereview\\npolaritytopredicttheoverallrecommenda-\\ntionscoreaswellasthedecision.We\\nachieveperformanceimprovement\\noverthebaselines(\\n˘\\n29%errorreduction)\\nproposedinarecentlyreleaseddatasetofpeer\\nreviews.AnAIofthiskindcouldassisttheed-\\nitors/programchairsasanadditionallayerof\\ninthedecisionmaking,espe-\\nciallywhennon-responding/missingreviewers\\narefrequentinpresentdaypeerreview.\\n1Introduction\\nTherapidincreaseinresearcharticlesubmis-\\nsionsacrossdifferentvenuesisposingasignif-\\nicantmanagementchallengeforthejournaled-\\nitorsandconferenceprogramchairs\\n1\\n.Among\\n1\\nApparentlyCVPR,NIPS,AAAI2019receivedover\\n5100,4900,7000submissionsrespectively!\\ntheloadofworkslikeassigningreviewers,ensur-\\ningtimelyreceiptofreviews,against\\nthenon-respondingreviewer,takinginformedde-\\ncisions,communicatingtotheauthors,etc.,edi-\\ntors/programchairsareusuallyoverwhelmedwith\\nmanysuchdemandingyetcrucialtasks.However,\\nthemajorhurdleliesintodecidetheacceptance\\nandrejectionofthemanuscriptsbasedonthere-\\nviewsreceivedfromthereviewers.\\nThequality,randomness,bias,inconsistencies\\ninpeerreviewsiswell-debatedacrosstheaca-\\ndemiccommunity(\\nBornmannandDaniel\\n,\\n2010\\n).\\nDuetotheriseinarticlesubmissionsandnon-\\navailabilityofexpertreviewers,editors/program\\nchairsaresometimesleftwithnootheroptions\\nthantoassignpaperstothenovice,outofdomain\\nreviewerswhichsometimesresultsinmoreincon-\\nsistenciesandpoorqualityreviews.Tostudythe\\narbitrarinessinherentintheexistingpeerreview\\nsystem,organisersoftheNIPS2014conference\\nassigned10%submissionstotwodifferentsets\\nofreviewersandobservedthatthetwocommit-\\nteesdisagreedformorethanquarterofthepapers\\n(\\nLangfordandGuzdial\\n,\\n2015\\n).Againitisquite\\ncommonthatapaperrejectedinonevenuegets\\nthecutinanotherwithlittleoralmostnoimprove-\\nmentinquality.Manyareoftheopinionthatthe\\nexistingpeerreviewsystemisfragileasitonlyde-\\npendsontheviewofaselectedfew(\\nSmith\\n,\\n2006\\n).\\nMoreover,evenapreliminarystudyintothein-\\nnersofthepeerreviewsystemisitselfverydif\\ncultbecauseofdataandcopyright\\nissuesofthepublishers.However,thesilverlin-\\ningisthatthepeerreviewsystemisevolvingwith\\nthelikesofOpenReviews\\n2\\n,authorresponseperi-\\nods/rebuttals,increasedeffectivecommunications\\nbetweenauthorsandreviewers,openaccessinitia-\\ntives,peerreviewworkshops,reviewformswith\\n2\\nhttps://openreview.net\\n'"
            ],
            "application/vnd.google.colaboratory.intrinsic+json": {
              "type": "string"
            }
          },
          "metadata": {},
          "execution_count": 72
        }
      ]
    },
    {
      "cell_type": "code",
      "source": [
        "output = \"\"\n",
        "for i in range(pdf_read.numPages):\n",
        "    page = pdf_read.getPage(i)\n",
        "    output += page.extractText()"
      ],
      "metadata": {
        "id": "iVEmg9bKqPJ9"
      },
      "execution_count": null,
      "outputs": []
    },
    {
      "cell_type": "code",
      "source": [
        "output"
      ],
      "metadata": {
        "colab": {
          "base_uri": "https://localhost:8080/",
          "height": 140
        },
        "id": "rv3STDQ9q2Ip",
        "outputId": "c529008d-4c48-40a8-b569-79854c0da2be"
      },
      "execution_count": null,
      "outputs": [
        {
          "output_type": "execute_result",
          "data": {
            "text/plain": [
              "\"DeepSentiPeer\\n:HarnessingSentimentinReviewTextsToRecommend\\nPeerReviewDecisions\\nTirthankarGhosal,RajeevVerma,AsifEkbal,PushpakBhattacharyya\\nDepartmentofComputerScienceandEngineering\\nIndianInstituteofTechnologyPatna,India\\n(tirthankar.pcs16,rajeev.ee15,asif,pb)@iitp.ac.in\\nAbstract\\nAutomaticallyvalidatingaresearchartefactis\\noneofthefrontiersinIntelligence\\n(AI)thatdirectlybringsitclosetocompeting\\nwithhumanintellectandintuition.Although\\ncriticizedsometimes,theexistingpeerreview\\nsystemstillstandsasthebenchmarkofre-\\nsearchvalidation.Thepresent-daypeerreview\\nprocessisnotstraightforwardanddemands\\nprofounddomainknowledge,expertise,and\\nintelligenceofhumanreviewer(s),whichis\\nsomewhatelusivewiththecurrentstateofAI.\\nHowever,thepeerreviewtexts,whichcontains\\nrichsentimentinformationofthereviewer,re-\\nhis/heroverallattitudetowardsthere-\\nsearchinthepaper,couldbeavaluableen-\\ntitytopredicttheacceptanceorrejectionof\\nthemanuscriptunderconsideration.Herein\\nthiswork,weinvestigatetheroleofreviewers\\nsentimentsembeddedwithinpeerreviewtexts\\ntopredictthepeerreviewoutcome.Ourpro-\\nposeddeepneuralarchitecturetakesintoac-\\ncountthreechannelsofinformation:thepa-\\nper,thecorrespondingreviews,andthereview\\npolaritytopredicttheoverallrecommenda-\\ntionscoreaswellasthedecision.We\\nachieveperformanceimprovement\\noverthebaselines(\\n˘\\n29%errorreduction)\\nproposedinarecentlyreleaseddatasetofpeer\\nreviews.AnAIofthiskindcouldassisttheed-\\nitors/programchairsasanadditionallayerof\\ninthedecisionmaking,espe-\\nciallywhennon-responding/missingreviewers\\narefrequentinpresentdaypeerreview.\\n1Introduction\\nTherapidincreaseinresearcharticlesubmis-\\nsionsacrossdifferentvenuesisposingasignif-\\nicantmanagementchallengeforthejournaled-\\nitorsandconferenceprogramchairs\\n1\\n.Among\\n1\\nApparentlyCVPR,NIPS,AAAI2019receivedover\\n5100,4900,7000submissionsrespectively!\\ntheloadofworkslikeassigningreviewers,ensur-\\ningtimelyreceiptofreviews,against\\nthenon-respondingreviewer,takinginformedde-\\ncisions,communicatingtotheauthors,etc.,edi-\\ntors/programchairsareusuallyoverwhelmedwith\\nmanysuchdemandingyetcrucialtasks.However,\\nthemajorhurdleliesintodecidetheacceptance\\nandrejectionofthemanuscriptsbasedonthere-\\nviewsreceivedfromthereviewers.\\nThequality,randomness,bias,inconsistencies\\ninpeerreviewsiswell-debatedacrosstheaca-\\ndemiccommunity(\\nBornmannandDaniel\\n,\\n2010\\n).\\nDuetotheriseinarticlesubmissionsandnon-\\navailabilityofexpertreviewers,editors/program\\nchairsaresometimesleftwithnootheroptions\\nthantoassignpaperstothenovice,outofdomain\\nreviewerswhichsometimesresultsinmoreincon-\\nsistenciesandpoorqualityreviews.Tostudythe\\narbitrarinessinherentintheexistingpeerreview\\nsystem,organisersoftheNIPS2014conference\\nassigned10%submissionstotwodifferentsets\\nofreviewersandobservedthatthetwocommit-\\nteesdisagreedformorethanquarterofthepapers\\n(\\nLangfordandGuzdial\\n,\\n2015\\n).Againitisquite\\ncommonthatapaperrejectedinonevenuegets\\nthecutinanotherwithlittleoralmostnoimprove-\\nmentinquality.Manyareoftheopinionthatthe\\nexistingpeerreviewsystemisfragileasitonlyde-\\npendsontheviewofaselectedfew(\\nSmith\\n,\\n2006\\n).\\nMoreover,evenapreliminarystudyintothein-\\nnersofthepeerreviewsystemisitselfverydif\\ncultbecauseofdataandcopyright\\nissuesofthepublishers.However,thesilverlin-\\ningisthatthepeerreviewsystemisevolvingwith\\nthelikesofOpenReviews\\n2\\n,authorresponseperi-\\nods/rebuttals,increasedeffectivecommunications\\nbetweenauthorsandreviewers,openaccessinitia-\\ntives,peerreviewworkshops,reviewformswith\\n2\\nhttps://openreview.net\\nobjectivequestionnaires,etc.gainingmomentum.\\nThePeerReaddataset(\\nKangetal.\\n,\\n2018\\n)isan\\nexcellentresourcetowardsresearchandstudyon\\nthisveryimpactfulandcrucialproblem.Withour\\nongoingefforttowardsthedevelopmentofanAr-\\nIntelligence(AI)-assistedpeerreviewsys-\\ntem,weareintriguedwith:\\nWhatifthereisanad-\\nditionalAIreviewerwhichpredictsdecisionsby\\nlearningthehigh-levelinterplaybetweenthere-\\nviewtextsandthepapers?Howwouldthesen-\\ntimentembeddedwithinthereviewtextsempower\\nsuchdecision-making?\\nAlthougheditors/program\\nchairsusuallygobythemajorityofthereviewer\\nrecommendations,theystillneedtogothroughall\\nthereviewtextscorrespondingtoallthesubmis-\\nsions.Agoodusecaseofthisresearchwouldbe:\\nthemissingreviewer,providinganad-\\nditionalperspectivetotheeditorincasesofcon-\\ntrasting/borderlinereviews.Thisworkinnoway\\nattemptstoreplacethehumanreviewers;instead,\\nweareintriguedtoseehowanAIcanactasan\\nadditionalreviewerwithinputsfromherhuman\\ncounterpartsandaidthedecision-makinginthe\\npeerreviewprocess.\\nWedevelopadeepneuralarchitectureincorpo-\\nratingfullpaperinformationandreviewtextalong\\nwiththeassociatedsentimenttopredicttheac-\\nceptabilityandrecommendationscoreofagiven\\nresearcharticle.Weperformtwotasks,a\\ncation(predictingaccept/rejectdecision)andare-\\ngression(predictingrecommendationscore)one.\\nTheevaluationshowsthatourproposedmodel\\nsuccessfullyoutperformstheearlierreportedre-\\nsultsinPeerRead.Wealsoshowthattheaddition\\nofreviewsentimentcomponenten-\\nhancesthepredictivecapabilityofsuchasystem.\\n2RelatedWork\\nIntelligenceinacademicpeerreviewis\\nanimportantyetlessexploredterritory.How-\\never,withtherecentprogressinAIresearch,the\\ntopicisgraduallygainingattentionfromthecom-\\nmunity.\\nPriceandFlach\\n(\\n2017\\n)didathorough\\nstudyofthevariousmeansofcomputationalsup-\\nporttothepeerreviewsystem.\\nMrowinskietal.\\n(\\n2017\\n)exploredanevolutionaryalgorithmtoim-\\nproveeditorialstrategiesinpeerreview.Thefa-\\nmousTorontoPaperMatchingsystem(\\nCharlin\\nandZemel\\n,\\n2013\\n)wasdevelopedtomatchpa-\\nperwithreviewers.Recentlywe(\\nGhosaletal.\\n,\\n2018b\\n,\\na\\n)investigatedtheimpactofvariousfea-\\nturesintheeditorialpre-screeningprocess.\\nWang\\nandWan\\n(\\n2018\\n)exploredamulti-instancelearning\\nframeworkforsentimentanalysisfromthepeerre-\\nviewtexts.Wecarryourcurrentinvestigationson\\naportionoftherecentlyreleasedPeerReaddataset\\n(\\nKangetal.\\n,\\n2018\\n).Studytowardsautomatedsup-\\nportforpeerreviewwasotherwisenotpossible\\nduetothelackofrejectedpaperinstancesandcor-\\nrespondingreviews.Ourapproachachievessig-\\nperformanceimprovementoverthetwo\\ntasksin\\nKangetal.\\n(\\n2018\\n).Weattribute\\nthistotheuseofdeepneuralnetworksandaug-\\nmentationofreviewsentimentinformationinour\\narchitecture.\\n3DataDescriptionandAnalysis\\nThePeerReaddatasetconsistsofpapers,asetof\\nassociatedpeerreviews,andcorrespondingac-\\ncept/rejectdecisionswithaspectscores\\nofpaperscollectedfromseveraltop-tier\\nIntelligence(AI),NaturalLanguageProcessing\\n(NLP)andMachineLearning(ML)conferences.\\nTable1showsthedataweconsiderinourexperi-\\nments.WecouldnotconsiderNIPSandarXivpor-\\ntionsofPeerReadduetothelackofaspectscores\\nandreviews,respectively.Formoredetailsonthe\\ndatasetcreationandthetask,werequesttheread-\\nerstoreferto\\nKangetal.\\n(\\n2018\\n).Wefurtheruse\\nthesubmissionsofICLR2018,correspondingre-\\nviewsandaspectscorestoboostourtrainingset\\nforthedecisionpredictiontask.Onemotivationof\\nourworkstemsfromthethataspectscores\\nforcertainfactorslike\\nImpact\\n,\\nOriginality\\n,\\nSound-\\nness/Correctness\\nwhichareseeminglycentralto\\nthemeritofthepaper,oftenhaveverylowcor-\\nrelationwiththerecommendationmadeby\\nthereviewersasismadeevidentin\\nKangetal.\\n(\\n2018\\n).However,fromtheheatmapinFigure1\\nwecanseethatthereviewer'ssentiments(com-\\npound/positive)embeddedwithinthereviewtexts\\nhavevisiblecorrelationswiththeaspectslike\\nRec-\\nommendation\\n,\\nAppropriateness\\nand\\nOverallDeci-\\nsion\\n.Thisalsosecondsourrecentthatde-\\nterminingthescopeorappropriatenessofanarti-\\ncletoavenueistheessentialstepinpeerre-\\nview(\\nGhosaletal.\\n,\\n2018a\\n).Sinceourstudyaims\\natdecidingthefateofthepaper,wetakepredict-\\ningrecommendationscoreandoveralldecisionas\\ntheobjectivesofourinvestigation.Thusourpro-\\nposaltoaugmentsentimentofreviewstothedeep\\nneuralarchitectureseemsintuitive.\\nVenues\\n#Papers\\n#Reviews\\nAspect\\nAcc/Rej\\nICLR2017\\n427\\n7270\\nY\\n172/255\\nACL2017\\n137\\n275\\nY\\n88/49\\nCoNLL2016\\n22\\n39\\nY\\n11/11\\nICLR2018\\n909\\n2741\\nOnlyRec\\n336/573\\nTotal\\n1495\\n10325\\nŒ\\n607/888\\nTable1:DatasetStatistics\\nFigure1:PearsonCorrelationofReviewSen-\\ntiment(:X)withdifferentAspectScores(:Y)\\nonACL2017dataset.A1\\n!\\nAppropriateness,\\nA2\\n!\\nClarity,A3\\n!\\nImpact,A4\\n!\\nMeaningfulCom-\\nparison,A5\\n!\\nOriginality,A6\\n!\\nRecommendation,\\nA7\\n!\\nSoundness/Correctness,A8\\n!\\nSubstance,\\nD\\n!\\nDecision.pos\\n!\\nPositiveSentimentScore,\\nneg\\n!\\nNegativeSentimentScore,neu\\n!\\nNeutralSen-\\ntimentScore,com\\n!\\nCompoundSentimentScore.\\nTocalculatethesentimentpolarityofareviewtext,\\nwetaketheaverageofthesentencewisesentiment\\nscoresfromValenceAwareDictionaryandsEntiment\\nReasoner(VADER)(\\nHuttoandGilbert\\n,\\n2014\\n).\\n4Methodology\\n4.1Pre-processing\\nAttheverybeginning,weconvertthepapers\\ninPDFto.jsonencodedusingtheScience\\nParse\\n3\\nlibrary.\\n4.2\\nDeepSentiPeerArchitecture\\nFigure2illustratestheoverallarchitectureweem-\\nployinourinvestigation.Theleftsegmentisfor\\nthedecisionpredictionwhiletherightsegment\\npredictstheoverallrecommendationscore.\\n4.2.1DocumentEncoding\\nWeextractfull-textsentencesfromeachresearch\\narticleandrepresenteachsentence\\ns\\ni\\n2\\nR\\nd\\nusing\\ntheTransformervariantoftheUniversalSentence\\n3\\nhttps://github.com/allenai/science-parse\\nEncoder(USE)(\\nCeretal.\\n,\\n2018\\n),\\nd\\nisthedimen-\\nsionofthesentencesemanticvectorwhichis\\n512\\n.\\nApaperisthenrepresentedas,\\nP\\n=\\ns\\n1\\n\\ns\\n2\\n\\n:::\\n\\ns\\nn\\n1\\n;\\nP\\n2\\nR\\nn\\n1\\n\\nd\\n\\nbeingtheconcatenationoperator,\\nn\\n1\\nisthemax-\\nimumnumberofsentencesinapapertextinthe\\nentiredataset(paddingisdonewhereverneces-\\nsary).Similarly,wedothisforeachofthereviews\\nandcreateareviewrepresentationas\\nR\\n=\\ns\\n1\\n\\ns\\n2\\n\\n:::\\n\\ns\\nn\\n2\\n;\\nR\\n2\\nR\\nn\\n2\\n\\nd\\nn\\n2\\nbeingthemaximumnumberofsentencesinthe\\nreviews.\\n4.2.2SentimentEncoding\\nThesentimentencodingofthereviewisdoneus-\\ningVADERSentimentAnalyzer.Forasentence\\ns\\ni\\n,VADERgivesavector\\nS\\ni\\n,\\nS\\ni\\n2\\nR\\n4\\n.Thereview\\nisthenencoded(paddedwherenecessary)forsen-\\ntimentas\\nr\\nsenti\\n=\\nS\\n1\\n\\nS\\n2\\n\\n:::\\n\\nS\\nn\\n2\\n;\\nr\\nsenti\\n2\\nR\\nn\\n2\\n\\n4\\n:\\n4.2.3FeatureExtractionwithConvolutional\\nNeuralNetwork\\nWemakeuseofaConvolutionalNeuralNetwork\\n(CNN)toextractfeaturesfromboththepaperand\\nreviewrepresentations.CNNhasshowngreatsuc-\\ncessinsolvingtheNLPproblemsinrecentyears.\\nTheconvolutionoperationworksbyslidinga\\nW\\nf\\nk\\n2\\nR\\nl\\n\\nd\\ntoawindowoflength\\nl\\n,theoutputof\\nsuch\\nh\\nth\\nwindowisgivenas,\\nf\\nk\\nh\\n=\\ng\\n(\\nW\\nf\\nk\\n\\nX\\nh\\n\\nl\\n+1:\\nh\\n+\\nb\\nk\\n)\\nX\\nh\\n\\nl\\n+1:\\nh\\nmeansthe\\nl\\nsentenceswithinthe\\nh\\nth\\nwindowinPaper\\nP\\n.\\nb\\nk\\nisthebiasforthe\\nk\\nth\\n,\\ng\\n()\\nisthenon-linearfunction.Thefeaturemap\\nf\\nk\\nforthe\\nk\\nth\\nisthenobtainedbyapplyingthis\\nFigure2:\\nDeepSentiPeer\\n:ASentimentAwareDeepNeuralArchitecturetoPredictReviewerRecommendation\\nScore.Decision-LevelFusionandFeature-LevelFusionofSentimentareshownforTask1andTask2,respectively.\\ntoeachpossiblewindowofsentencesinthe\\nP\\nas\\nf\\nk\\n=[\\nf\\nk\\n1\\n;\\nf\\nk\\n2\\n;:::;\\nf\\nk\\nh\\n;:::;\\nf\\nk\\nn\\n1\\n\\nl\\n+1\\n]\\n;\\nf\\nk\\n2\\nR\\nn\\n1\\n\\nl\\n+1\\n:\\nWethenapplyamax-poolingoperationtothis\\ntermaptogetthemostfeature,\\n^\\nf\\nk\\nas\\n^\\nf\\nk\\n=\\nmax\\n(\\nf\\nk\\n)\\n.Forapaper\\nP\\n,theoutputof\\nthisconvolutionisthengivenas\\np\\n=[\\n^\\nf\\n1\\n;\\n^\\nf\\n2\\n;:::;\\n^\\nf\\nk\\n;:::;\\n^\\nf\\nF\\n]\\n;\\np\\n2\\nR\\nF\\n;\\nF\\nisthetotalnumberofused.Inthesame\\nway,wecanget\\nr\\nastheoutputoftheconvolution\\noperatorfortheReview\\nR\\n.\\nWecalltheoutputs\\np\\nand\\nr\\nasthehigh-levelrep-\\nresentationfeaturevectorofthepaperandthere-\\nview,respectively.Wethenconcatenatethesefea-\\nturevectors(Feature-LevelFusion).Thereason\\nweextractfeaturesfrombothistosimulatetheed-\\nitorialww,whereinideally,theeditor/chair\\nwouldlookatbothintothepaperandthecorre-\\nspondingreviewstoarriveatajudgement.\\n4.2.4Multi-layerPerceptron\\nWeemployaMulti-LayerPerceptron\\n(\\nMLP\\nPredict\\n)totakethejointpaper+review\\nrepresentations\\nx\\npr\\nasinputtogetthe\\nBaselines\\nTask1\\n!\\nAspectScorePrediction(RMSE)\\nTestDatasets\\n!\\nICLR\\nz\\nACL\\ny\\nCoNLL\\ny\\nApproaches\\n#\\n2017\\n2017\\n2016\\nMajorityBaseline\\n1.6940\\n2.7968\\n2.9133\\nMeanBaseline\\n1.6095\\n2.4900\\n2.6086\\nOnlyPaper(\\nKangetal.\\n,\\n2018\\n)\\n1.6462\\n2.7278\\n3.0591\\nComparingSystems\\nOnlyReview(\\nKangetal.\\n,\\n2018\\n)\\n1.6955\\n2.7062\\n2.7072\\nPaper+Review(\\nKangetal.\\n,\\n2018\\n)\\n1.6496\\n2.5011\\n2.9734\\nOnlyReview\\n1.5812\\n2.7191\\n2.6537\\nProposedArchitecture\\nReview+Sentiment\\n1.4521\\n2.6845\\n2.5524\\nDeepSentiPeer\\nPaper+Review+Sentiment\\n1.1679\\n2.3790\\n2.5399\\nTable2:ResultsonAspectScorePredictionTask.TrainingisdonewithonlyICLR2017papers/reviews,\\ny!\\nCross-Domain:TrainingonICLRandtestinguponentiredataofACL/CoNLLavailableinPeerReaddataset,\\nz!\\nTestsetiskeptthesameas(\\nKangetal.\\n,\\n2018\\n),RMSE\\n!\\nRootMeanSquaredError.CNNvariantasin(\\nKangetal.\\n,\\n2018\\n)isusedasthecomparingsystem.\\nrepresentationas\\nx\\npr\\n=\\nf\\nMLP\\nPredict\\n(\\n\\npredict\\n;[\\np\\n;\\nr\\n])\\n;\\nwhere\\n\\npredict\\nrepresentstheparametersofthe\\nMLP\\nPredict\\n.Wealsoextractfeaturesfromthe\\nreviewsentimentrepresentation\\nx\\nrs\\nviaanother\\nMLP(\\nMLP\\nSenti\\n).\\nx\\nrs\\n=\\nf\\nMLP\\nSenti\\n(\\n\\nsenti\\n;\\nr\\nsenti\\n)\\n;\\n\\nsenti\\nbeingtheparametersof\\nMLP\\nSenti\\n.Finally,\\nwefusetheextractedreviewsentimentfeatureand\\njointpaper+reviewrepresentationtogethertogen-\\neratetheoverallrecommendationscore(Decision-\\nLevelFusion)usingtheaftransformationas\\nprediction\\n=(\\nW\\nd\\n\\n[\\nx\\npr\\n;\\nx\\nrs\\n]+\\nb\\nd\\n)\\n:\\nWeminimizetheMeanSquareError(MSE)be-\\ntweentheactualandpredictedrecommendation\\nscore.Themotivationhereistoaugmentthehu-\\nmanjudgement(review+embeddedsentiment)re-\\ngardingthequalityofapaperindecisionmaking.\\nThelong-termobjectiveistohavetheAIlearnthe\\nnotionofgoodandbadpapersfromthehuman\\nperceptioninpeerreviewsincorrespon-\\ndencewithpaperfull-text.\\n4.2.5Accept/RejectDecisions\\nInsteadoftrainingthedeepnetworkonoverall\\nrecommendationscores,wetrainthenetworkwith\\nthedecisionsofthepapersina\\nsetting.Theentiresetupissamebutweconcate-\\nnateallthereviewsofaparticularpapertogether\\ntogetthereviewrepresentation.Andratherthan\\ndoingdecision-levelfusion,weperformfeature-\\nlevelfusionwherethedecisionisgivenas\\nx\\nprs\\n=\\nf\\nMLP\\nPredict\\n(\\n\\n;[\\np\\n;\\ne\\nr\\n;\\ne\\nx\\nrs\\n])\\nc\\n=\\nSoftmax\\n(\\nW\\nc\\n\\nx\\nprs\\n+\\nb\\nc\\n)\\n;\\nwhere\\nc\\nistheoutputdistribution\\nacrossacceptorrejectclasses.\\ne\\nr\\nisthehigh-level\\nrepresentationofreviewtextafterconcatenating\\nallreviewscorrespondingtoapaperand\\ne\\nx\\nrs\\nisthe\\noutputof\\nMLP\\nSenti\\nontheconcatenatedreview\\ntext.WeminimizeCross-EntropyLossbetween\\npredicted\\nc\\nandactualdecisions.\\n4.3ExperimentalSetup\\nAswementionearlier,weundertaketwotasks:\\nTask1\\n:\\nPredictingtheoverallrecommendation\\nscore\\n(Regression)and\\nTask2\\n:\\nPredictingtheAccept/RejectDecision\\n\\nTocomparewith\\nKangetal.\\n(\\n2018\\n),wekeep\\ntheexperimentalsetup(trainvstestratio)identical\\nandre-implementtheircodestogeneratethecom-\\nparingHowever,\\nKangetal.\\n(\\n2018\\n)per-\\nformedTask2onICLR2017datasetwithhand-\\ncraftedfeatures,andTask1inadeeplearningset-\\nting.Sinceourapproachisadeepneuralnetwork\\nbased,wecrawladditionalpaper+reviewsfrom\\nICLR2018toboostthetrainingset.\\nForTask1,\\nn\\n1\\nis666and\\nn\\n2\\nis98whilefor\\nTask2,\\nn\\n1\\nis1494and\\nn\\n2\\nis525.Weemploya\\ngridsearchforhyperparameteroptimization.For\\nTask1,\\nF\\nis256,\\nl\\nis5.ReLUisthenon-linear\\nfunction\\ng\\n()\\n,learningrateis0.007.Wetrainthe\\nmodelwithSGDoptimizer,setmomentumas0.9\\nBaseline\\nTask2\\n!\\nAccept/Reject(Accuracy)\\nTestDatasets\\n!\\nICLR\\nz\\nACL\\ny\\nCoNLL\\ny\\nApproaches\\n#\\n2017\\n2017\\n2016\\nMajorityBaseline\\n60.52\\n33.33\\n39.94\\nComparingSystem\\nOnlyPaper(\\nKangetal.\\n,\\n2018\\n)\\n55\\n:\\n26\\n\\n35.93\\n41.23\\nOnlyReview\\n65.35\\n57.12\\n62.91\\nProposedArchitecture\\nReview+Sentiment\\n69.79\\n59.31\\n62.22\\nDeepSentiPeer\\nPaper+Review+Sentiment\\n71.05\\n64.76\\n67.71\\nTable3:ResultsonAccept/RejectTasks.TrainingisdonewithICLR2017+ICLR2018pa-\\npers/reviews,\\ny!\\nCross-Domain:TrainingonICLRandtestingupontheentiredataofACL/CoNLL,\\nz\\nTest\\nSetiskeptthesameas(\\nKangetal.\\n,\\n2018\\n),RMSE\\n!\\nRootMeanSquaredError,\\n!\\n65.79%ifonlytrainedwith\\nICLR2017,ComparingSystem(\\nKangetal.\\n,\\n2018\\n)isfeature-basedandconsidersonlypaper,andnotthereviews.\\nandbatchsizeas32.Wekeepdropoutat0.5.We\\nusethesamenumberofwiththesameker-\\nnelsizeforbothpaperandreview.InTask2,for\\nPaper\\nCNN\\nF\\nis128,\\nl\\nis7andforReview\\nCNN\\nF\\nis64and\\nl\\nis5.Againwetrainthemodelwith\\nAdamOptimizer,keepthebatchsizeas64anduse\\n0.7asthedropoutratetopreventovWe\\nintentionallykeepourCNN/MLPshallowdueto\\nlesstrainingdata.Wemakeourcodes\\n4\\navailable\\nforfurtherexplorations.\\n5ResultsandAnalysis\\nTable2andTable3showourresultsforboth\\nthetasks.Weproposeasimplebuteffective\\narchitectureinthisworksinceourprimary\\nintentistoestablishthatasentiment-awaredeep\\narchitecturewouldbettersuitthesetwoproblems.\\nFor\\nTask1\\n,wecanseethatourreviewsentiment\\naugmentedapproachoutperformsthebaselines\\nandthecomparingsystemsbyawidemargin(\\n˘\\n29%reductioninerror)ontheICLR2017dataset.\\nWithonlyusingreview+sentimentinformation,\\nwearestillabletooutperform\\nKangetal.\\n(\\n2018\\n)\\nbyamarginof11%intermsofRMSE.Afurther\\nrelativeerrorreductionof19%withtheaddition\\nofpaperfeaturesstronglysuggeststhatonly\\nreviewisnotsuffortherecommen-\\ndation.Ajointmodelofthepapercontentand\\nreviewtext(thehumantouch)augmentedwiththe\\nunderlyingsentimentwouldefguidethe\\nprediction.\\nFor\\nTask2\\n,weobservethatthehandcrafted\\nfeature-basedsystemby\\nKangetal.\\n(\\n2018\\n)per-\\nformsinferiorcomparedtothebaselines.Thisis\\nbecausethefeatureswereverynaiveanddidnot\\n4\\nhttps://github.com/aritzzz/DeepSentiPeer\\naddressthecomplexityinvolvedinsuchatask.We\\nperformbetterwitharelativeimprovementof28%\\nintermsofaccuracy,andalsooursystemisend-to-\\nendtrained.Presumably,tosomeextent,ourdeep\\nneuralnetworklearnedtodistinguishbetweenthe\\nprobableacceptversusprobablerejectbyextract-\\ningusefulinformationfromthepaperandreview\\ndata.\\n5.1Cross-DomainExperiments\\nWiththeadditional(butless)dataofACL2017\\nandCoNLL2016inPeerRead,weperformthe\\ncross-domainexperiments.Wedotrainingwith\\ntheICLRdata(coreMachineLearningpapers)\\nandtakethetestsetfromtheNLPconferences\\n(ACL/CoNLL).NLPnowadaysismostlymachine\\nlearning(ML)centric,whereweseveralap-\\nplicationsandextensiveusageofMLalgorithms\\ntoaddressdifferentNLPproblems.Hereweob-\\nservearelativeerrorreductionof4.8%and14.5%\\noverthecomparingsystemforACL2017and\\nCoNLL2016,respectively(Table2).Forthede-\\ncisionpredictiontask,thecomparingsystemper-\\nformsevenworse,andweoutperformthembya\\nconsiderablemarginof28%(ACL2017)and26%\\n(CoNLL2017),respectively(Table3).Thereason\\nisthattheworkreportedin\\nKangetal.\\n(\\n2018\\n)re-\\nliesonelementaryhandcraftedfeaturesextracted\\nonlyfromthepaper;doesnotconsiderthereview\\nfeatureswhereasweincludethereviewfeatures\\nalongwiththesentimentinformationinourdeep\\nneuralarchitecture.However,wealsothatour\\napproachwithonlyReview+Sentimentperforms\\ninferiortothePaper+Reviewmethodin\\nKangetal.\\n(\\n2018\\n)forACL2017.Thisagainsecondsthatin-\\nclusionofpaperisvitalinrecommendationde-\\ncisions.Onlypaperisenoughforahumanre-\\nviewer,butwiththecurrentstateofAI,anAI\\nreviewerwouldneedthesupervisionofherhu-\\nmancounterpartstoarriveatarecommendation.\\nSooursystemissuitedtocaseswheretheeditor\\nneedsanadditionaljudgmentregardingasubmis-\\nsion(suchasdealingwithmissing/non-responding\\nreviewers,anaddedlayerofwithanAI\\nwhichisawareofthepastacceptances/rejections\\nofavenue).\\n6Analysis:EffectofSentimenton\\nReviewer'sRecommendation\\nFigure3:Projectionsoftheoutputactivationsofthe\\nlayerof\\nMLP\\nSenti\\n.PointsareannotatedforRe-\\nviewsfromTable4.X:PredictedRecommendation\\nScores,Y:SentimentActivations\\nScores\\nPC\\nActualvsPrediction\\n0.97\\nPredictionvsSentimentActivations\\n-0.93\\nActualvsSentimentActivations\\n-0.91\\nTable4:PearsonCorrelation(PC)Coefbetween\\nthe\\nRecommendationScores\\nand\\nSentimentActivations\\n.\\nThisistoaccountforthefactthatsentimentisactually\\ncorrelatedwiththepredictionsignifyingthestrengthof\\nthemodel.\\nFigure3showstheoutputactivations\\n5\\nfromthe\\nlayerof\\nMLP\\nSenti\\nagainstthepredictedrec-\\nommendationscores.Wecanseethatthepapers\\narediscriminatedintovisibleclustersaccording\\ntotheirrecommendationscores.Thisprovesthat\\nDeepSentiPeer\\ncanextractusefulfeaturesinclose\\ncorrespondencetohumanjudgments.FromFig-\\nure3andTable4,weseethatthesentimentac-\\ntivationsarestronglycorrelated(negatively)with\\n5\\nWecallthemasSentimentActivations\\ntheactualandpredictedrecommendationscores.\\nTherefore,wehypothesizethatourmodeldraws\\nconsiderablestrengthifthereviewtexthasproper\\nsentimentembeddedinit.Tofurtherinvesti-\\ngatethis,wesamplethepapers/reviewsfromthe\\nICLR2017testset.Weconsideractualreview\\ntextandthesentimentembeddedthereintoexam-\\ninetheperformanceofthesystem(SeeTable5).\\nWetruncatethelengthyreviewtextsandprovide\\ntheOpenReviewlinksforreference.Appendix\\nAshowstheheatmapsofVadersentimentscores\\ngeneratedforindividualsentencescorresponding\\ntoeachpaperreviewinTable5.Weherebyac-\\nknowledgethatsincethescholarlyreviewtextsare\\nmostlyobjectiveandnotstraightforward,thescore\\nforneutralpolarityisstrongasopposedtopos-\\nitive,andnegative.Butstill,wecanseevisible\\npolaritiesforreviewsentenceswhicharepositive\\nornegativeinsentiment.Forinstance,thesecond\\nlastsentence(s9):\\nﬁThepaperisnotwellwritten\\neitherﬂ\\nfromR1hasvisiblenegativeweightinthe\\nheatmap(Figure5inAppendixA).Samecanbe\\nobservedfortheotherreviewsentencesaswell.\\nFigure4:NormalizedConfusionMatrixforAc-\\ncept/RejectDecisionsonICLR2017testdatawith\\nDeepSentiPeer\\n(Paper+Review+Sentiment)model.\\nBesidestheobjectiveevaluationofthepaperin\\nthepeerreviews,thereviewer'sopinioninthepeer\\nreviewtextholdsstrongcorrespondencewiththe\\noverallrecommendationscore.Wecanqualita-\\ntivelyseethatthereviewsR1,R2,andR3arepo-\\nlarizedtowardsthenegativesentiment(Table5).\\nOurmodelcanefpredictareasonablerec-\\nommendationscorewithrespecttohumanjudg-\\nment.SamewecansayforR7wherethereview\\nmostlyapositivesentimentpolarity.R6\\nprovidesaninterestingobservation.Weseethat\\nthereviewR6isnotveryexpressiveforsucha\\n#\\nPaperTitle\\nReviewText\\nPrediction\\nActual\\nSenti\\nAct\\nR1\\nMulti-label\\nlearning\\nwiththe\\nRNNsfor\\nFashion\\nSearch\\nŠThetechnicalcontributionofthispaperisnotclear.Mostoftheapproachesusedarestandard\\nstate-of-artmethodsandtherearenotmuchnovelties.Foramulti-labelrecognitiontask,there\\nareotheravailablemethods,e.g.usingbinarymodels,changingcross-entropylossfunction,\\netc.ThereisnotanycomparisonbetweentheRNNmethodandothersimplebaselines.The\\norderofthesequentialRNNpredictionisnotcleareither.Itseemsthattheattributesforma\\ntreehierarchy,andthatisusedastheorderofsequence.Thepaperisnotwellwritteneither.Š\\nhttps://openreview.net/forum?id=HyWDCXjgx&noteId=B1Mp8grVl\\n4\\n3\\n0.01\\nR2\\nTransformation\\nbasedMod-\\nelsofVideo\\nSequences\\nŠWhileIagreewiththeauthorsonthesepoints,Ialsothatthepapersufferfromimportant\\n-thechoiceofnotcomparingwithpreviousapproachesintermofpixel\\npredictionerrorseemsveryﬂconvenientﬂ,tosaytheleast.Whileitisclearthattheevaluation\\nmetricisimperfect,itisnotareasontocompletelydismissallquantitativecomparisonswith\\npreviouswork.Theframesoutputbythenetworkon,e.g.themovingdigitsdatasets(Figure\\n4),looksokandcanbecomparedwithotherpapers.Yet,theauthorschosenotto,\\nwhichissuspicious.Š\\nhttps://openreview.net/forum?id=HkxAAvcxx&noteId=\\nSJE7-lkVx\\n3\\n3\\n0.41\\nR3\\nEf\\nCalcu-\\nlationof\\nPolynomial\\nFeatures\\nonSparse\\nMatrices\\nŠManymorerelevantpapersshouldbecitedfromtherecentliterature.Theexperimentpartis\\nveryweak.ThispaperclaimsthatthetimecomplexityoftheiralgorithmisO(\\nd\\nk\\nD\\nk\\n),which\\nisanimprovementoverstandardmethodO(\\nd\\nk\\n)byafactor\\nd\\nk\\nButintheexperiments,when\\nd=1,thereisstillalargegap(14svs.90s)betweentheproposedmethodandthestandardone.\\nTheauthorsexplainthisasﬂlikelyalanguageimplementationﬂ,whichisnotconvincing.To\\nfairlycomparethetwomethods,ofcourseyouneedtoimplementbothinthesameprogramming\\nlanguageandrunexperimentsinthesameenvironment.Forhigherdegreefeatureexpansion,\\nthereisnoempiricalexperimentstoshowtheadvantageoftheproposedmethod.Š\\nhttps:\\n//openreview.net/forum?id=S1j4RqYxg&noteId=B17Fn04Vg\\n4\\n3\\n0.27\\nR4\\nEf\\nVector\\nRepresen-\\ntationfor\\nDocuments\\nthrough\\nCorruption\\nŠWhilenoneofthepiecesofthismodelareparticularlynovel,theresultisaneflearning\\nalgorithmfordocumentrepresentationwithgoodempiricalperformance.Jointtrainingofword\\nanddocumentembeddingsisnotanewidea,noristheideaofenforcingthedocumenttobe\\nrepresentedbythesumofitswordembeddings(see,e.g.see,e.g.ﬂTheSumofItsPartsﬂ:Joint\\nLearningofWordandPhraseRepresentationswithAutoencoders'byLebretandCollobert).\\nFurthermore,thecorruptionmechanismisnothingotherthantraditionaldropoutontheinput\\nlayer.Coupledwiththeword2vec-stylelossandtrainingmethods,thispaperofferslittleonthe\\nnoveltyfront.Ontheotherhand,itisveryefatgenerationtime,requiringonlyanaverage\\nofthewordembeddingsratherthanacomplicatedinferencestepasinDoc2Vec.Moreover,by\\nconstruction,theembeddingcapturessalientglobalinformationaboutthedocumentŒitcaptures\\nthatinformationthataidsinlocal-contextprediction.Forsuchasimplemodel,the\\nperformanceonsentimentanalysisanddocumentisquiteencouraging.Overall,\\ndespitethelackofnovelty,thesimplicity,ef,andperformanceofthismodelmakeitworthy\\nofwiderreadershipandstudy,andIrecommendacceptance.Š\\nhttps://openreview.net/\\nforum?id=B1Igu2ogg&noteId=rJBM9YbVg\\n6\\n7\\n-1.04\\nR5\\nR5\\nTowards\\naNeural\\nStatistician\\nŠHierarchicalmodelingisanimportantandhighimpactproblem,andIthinkthatit'sunder-\\nexploredintheDeepLearningliterature.Pros:-Thefew-shotlearningresultslookgood,butI'\\nmmnotanexpertinthisarea.-Theideaofusingaﬂdoubleﬂvariationalboundinahierarchi-\\ncalgenerativemodeliswellpresentedandseemswidelyapplicable.Questions:-Whentraining\\nthestatisticnetwork,areminibatches(i.e.subsetsoftheexamples)used?-Ifnot,doesusing\\nminibatchesactuallygiveyouanunbiasedestimatorofthefullgradient(ifyouhadusedallex-\\namples)?Forexample,whatifthestatisticnetworkwantstopulloutif*any*examplefromthe\\ndatasethasacertainfeatureandtreatthatasthecharacterization.Thisseemstothegraph-\\nicalmodelontherightsideofe1.Ifyourstatisticnetworkistrainedonminibatches,it\\nwon'tbeabletolearnthischaracterization,becauseagivenminibatchwillbemissingsome\\noftheexamplesfromthedataset.Usingminibatches(asopposedtousingallexamplesinthe\\ndataset)totrainthestatisticnetworkseemslikeitwouldlimittheexpressivepowerofthemodelŠ\\nhttps://openreview.net/forum?id=HJDBUF5le&noteId=HyWm1orEx\\n6\\n8\\n-0.65\\nR6\\nArecurrent\\nneuralnet-\\nworkwith-\\noutchaos\\nTheauthorsofthepapersetouttoanswerthequestionwhetherchaoticbehaviourisanecessary\\ningredientforRNNstoperformwellonsometasks.Forthatquestion'ssake,theyproposeanar-\\nchitecturewhichisdesignedtonothavechaos.Thesubsequentexperimentsvalidatetheclaim\\nthatchaosisnotnecessary.Thispaperisrefreshing.Insteadofproposinganotherincremental\\nimprovement,theauthorsstartoutwithaclearhypothesisandtestit.Thismightsetthebasefor\\nfuturedesignprinciplesofRNNs.Theonlydownsideisthattheexperimentsareonlyconductedon\\ntaskswhichareknowntobenotthatdemandingfromadynamicalsystemsperspective;itwould\\nhavebeenniceiftheauthorshadtraversedthesetofdatasetsmoretodatawherechaos\\nisactuallynecessary.\\nhttps://openreview.net/forum?id=S1dIzvclg&noteId=\\nH1LYxY84l\\n5\\n8\\n-1.01\\nR7\\nBatch\\nPolicy\\nGradient\\nMethodsfor\\nImproving\\nNeural\\nConver-\\nsation\\nModels\\nTheauthorproposetouseaoff-policyactor-criticalgorithminabatch-settingtoimprovechat-\\nbots.Theapproachiswellmotivatedandthepaperiswellwritten,exceptforsomeintuitions\\nforwhythebatchversionoutperformstheon-lineversion(seecommentsonre-\\ngardingbatchvs.onlinesettingﬂ).Theexperimentsareinstructive,andthereal-world\\nexperimentswereperformedverythoroughlyalthoughtheresultsshowonlymodestimprovement.\\nhttps://openreview.net/forum?id=rJfMusFll&noteId=H1bSmrx4x\\n7\\n7\\n-1.77\\nTable5:Aqualitativestudyoftheeffectofsentimentintheoverallrecommendationscoreprediction.Prediction\\n!\\nistheoverallrecommendationscorepredictedbyoursystem,Actual\\n!\\nistherecommendationscoregiven\\nbyreviewers.\\nSenti\\nAct\\naretheoutputactivationsfromthelayerof\\nMLP\\nSenti\\nwhichareaugmentedtothe\\ndecisionlayerforrecommendationscoreprediction.Thecorrespondencebetweenthesentimentembedded\\nwithinthereviewtextsandSentimentActivationsarefairlyvisibleinFigure3.KindlyrefertoAppendixAfor\\npolaritystrengthsinindividualreviewsentences.TheOpenReviewlinksinthetableabovegivethefullreview\\ntexts.\\nhighrecommendationscore8.Itstartswithintro-\\nducingtheauthorsworkandlistingthestrengths\\nandlimitationsoftheworkwithoutmuch(and\\nnecessary)details.Ourmodelhencepredicts5as\\ntherecommendationscore.WhereasR4canbe\\nseenasthecaseofausualwell-writtenreview,ex-\\npressingthepositiveandnegativeaspectsofthe\\npapercoherently.Ourmodelpredicts6foranac-\\ntualrecommendationscoreof7.Thesevalidate\\ntheroleofthereviewer'sopinionandsentimentto\\npredicttherecommendationscore,andourmodel\\niscompetentenoughtotakeintoaccounttheover-\\nallpolarityofthereview-texttodrivethepredic-\\ntion.Figure4presentstheconfusionmatrixofour\\nproposedmodelonICLR2017testdataforTask\\n2.\\n7Conclusion\\nHereinthiswork,weshowthatthereviewersen-\\ntimentinformationembeddedwithinpeerreview\\ntextscouldbeleveragedtopredictthepeerreview\\noutcomes.Ourdeepneuralarchitecturemakesuse\\nofthreeinformationchannels:thepaperfull-text,\\ncorrespondingpeerreviewtextsandthesentiment\\nwithinthereviewstoaddressthecomplextaskof\\ndecisionmakinginpeerreview.Withfurtherex-\\nploration,weaimtomouldtheongoingresearch\\ntoanefAI-enabledsystemthatwouldassist\\nthejournaleditorsorconferencechairsinmak-\\ninginformeddecisions.However,consideringthe\\nsensitivityofthetopic,wewouldliketofurther\\ndivedeepintoexploringthesubtlenuancesthat\\nleadsintothegradingofpeerreviewaspects.We\\nfoundthatreviewreliabilitypredictionshouldpre-\\nludethesetaskssincenotallreviewsareofequal\\nqualityoraretothedecisionmak-\\ning.Weaimtoincludereviewreliabilitypredic-\\ntioninthepipelineofourfuturework.However,\\nweareinconsensusthatscholarlylanguagepro-\\ncessingisnotstraightforward.Weneedstronger,\\npervasivemodelstocapturethehigh-levelinter-\\nplayofthepaperandpeerreviewstodecidethe\\nfateofamanuscript.Weintendtoworkupon\\nthoseandalsoexploremoresophisticatedtech-\\nniquesforsentimentpolarityencoding.\\nAcknowledgements\\nTheauthor,TirthankarGhosal,acknowledges\\nVisvesvarayaPhDSchemeforElectronicsandIT,\\naninitiativeofMinistryofElectronicsandInfor-\\nmationTechnology(MeitY),GovernmentofIn-\\ndiaforfellowshipsupport.Thethirdauthor,Asif\\nEkbal,acknowledgesYoungFacultyResearch\\nFellowship(YFRF),supportedbyVisvesvaraya\\nPhDschemeforElectronicsandIT,Ministryof\\nElectronicsandInformationTechnology(MeitY),\\nGovernmentofIndia,beingimplementedbyDig-\\nitalIndiaCorporation(formerlyMediaLabAsia).\\nWealsothankElsevierCenterofExcellencefor\\nNaturalLanguageProcessing,IndianInstituteof\\nTechnologyPatnaforadequateinfrastructuralsup-\\nporttocarryoutthisresearch.Finally,weappreci-\\natetheanonymousreviewersfortheircriticaleval-\\nuationofourworkandsuggestionstocarryfor-\\nwardfromhere.\\nReferences\\nLutzBornmannandHans-DieterDaniel.2010.\\nRe-\\nliabilityofreviewers'ratingswhenusingpublic\\npeerreview:acasestudy\\n.\\nLearnedPublishing\\n,\\n23(2):124Œ131.\\nDanielCer,YinfeiYang,Sheng-yiKong,NanHua,\\nNicoleLimtiaco,RhomniSt.John,NoahConstant,\\nMarioGuajardo-Cespedes,SteveYuan,ChrisTar,\\nBrianStrope,andRayKurzweil.2018.\\nUniver-\\nsalsentenceencoderforenglish\\n.In\\nProceedings\\nofthe2018ConferenceonEmpiricalMethodsin\\nNaturalLanguageProcessing,EMNLP2018:Sys-\\ntemDemonstrations,Brussels,Belgium,October31\\n-November4,2018\\n,pages169Œ174.\\nLaurentCharlinandRichardZemel.2013.The\\ntorontopapermatchingsystem:anautomatedpaper-\\nreviewerassignmentsystem.\\nTirthankarGhosal,RaviSonam,SriparnaSaha,Asif\\nEkbal,andPushpakBhattacharyya.2018a.Inves-\\ntigatingdomainfeaturesforscopedetectionand\\nofarticles.In\\nProceed-\\ningsoftheEleventhInternationalConferenceon\\nLanguageResourcesandEvaluation(LREC2018)\\n,\\nParis,France.EuropeanLanguageResourcesAsso-\\nciation(ELRA).\\nTirthankarGhosal,RajeevVerma,AsifEkbal,Sriparna\\nSaha,andPushpakBhattacharyya.2018b.\\nInves-\\ntigatingimpactfeaturesineditorialpre-screening\\nofresearchpapers\\n.In\\nProceedingsofthe18th\\nACM/IEEEonJointConferenceonDigitalLi-\\nbraries,JCDL2018,FortWorth,TX,USA,June03-\\n07,2018\\n,pages333Œ334.\\nClaytonJ.HuttoandEricGilbert.2014.\\nVADER:A\\nparsimoniousrule-basedmodelforsentimentanal-\\nysisofsocialmediatext\\n.In\\nProceedingsofthe\\nEighthInternationalConferenceonWeblogsand\\nSocialMedia,ICWSM2014,AnnArbor,Michigan,\\nUSA,June1-4,2014.\\nDongyeopKang,WaleedAmmar,BhavanaDalvi,\\nMadeleinevanZuylen,SebastianKohlmeier,Ed-\\nuardH.Hovy,andRoySchwartz.2018.\\nAdataset\\nofpeerreviews(peerread):Collection,insightsand\\nNLPapplications\\n.In\\nProceedingsofthe2018Con-\\nferenceoftheNorthAmericanChapteroftheAsso-\\nciationforComputationalLinguistics:HumanLan-\\nguageTechnologies,NAACL-HLT2018,NewOr-\\nleans,Louisiana,USA,June1-6,2018,Volume1\\n(LongPapers)\\n,pages1647Œ1661.\\nJohnLangfordandMarkGuzdial.2015.\\nThearbitrari-\\nnessofreviews,andadviceforschooladministra-\\ntors\\n.\\nCommun.ACM\\n,58(4):12Œ13.\\nMaciejJMrowinski,PiotrFronczak,AgataFronczak,\\nMarcelAusloos,andOlgicaNedic.2017.\\ncialintelligenceinpeerreview:Howcanevolution-\\narycomputationsupportjournaleditors?\\nPloSone\\n,\\n12(9):e0184711.\\nSimonPriceandPeterA.Flach.2017.\\nComputa-\\ntionalsupportforacademicpeerreview:aperspec-\\ntivefromintelligence\\n.\\nCommun.ACM\\n,\\n60(3):70Œ79.\\nRichardSmith.2006.Peerreview:awedprocess\\nattheheartofscienceandjournals.\\nJournalofthe\\nroyalsocietyofmedicine\\n,99(4):178Œ182.\\nKeWangandXiaojunWan.2018.\\nSentimentanaly-\\nsisofpeerreviewtextsforscholarlypapers\\n.In\\nThe\\n41stInternationalACMSIGIRConferenceonRe-\\nsearch&DevelopmentinInformationRetrieval,SI-\\nGIR2018,AnnArbor,MI,USA,July08-12,2018\\n,\\npages175Œ184.\\nAHeatmapsDepictingSentiment\\nPolarityinReviewTexts\\nFigure5:Heatmapsofthesentence-wiseVADERsen-\\ntimentpolarityofreviewsconsideredinTable4.Re-\\nviewsgenerallythepolarityofthereviewerto-\\nwardstherespectivework.\\ns0...sn\\n!\\narethesentences\\ninthepeerreviewtexts.\\n\""
            ],
            "application/vnd.google.colaboratory.intrinsic+json": {
              "type": "string"
            }
          },
          "metadata": {},
          "execution_count": 74
        }
      ]
    },
    {
      "cell_type": "markdown",
      "source": [
        "# Preprocessing the data"
      ],
      "metadata": {
        "id": "KS8l7_VagjD9"
      }
    },
    {
      "cell_type": "code",
      "source": [
        "text = re.sub(r'\\[[0-9]*\\]',' ',output)\n",
        "text = re.sub(r'\\s+',' ',text)\n",
        "text = re.sub(r'\\d',' ',text)\n",
        "text = re.sub(r'\\s+',' ',text)\n",
        "text"
      ],
      "metadata": {
        "colab": {
          "base_uri": "https://localhost:8080/",
          "height": 140
        },
        "id": "6THCqBL9rhRE",
        "outputId": "0f278c1c-8f77-4d77-d924-5907435fe169"
      },
      "execution_count": null,
      "outputs": [
        {
          "output_type": "execute_result",
          "data": {
            "text/plain": [
              "\"DeepSentiPeer :HarnessingSentimentinReviewTextsToRecommend PeerReviewDecisions TirthankarGhosal,RajeevVerma,AsifEkbal,PushpakBhattacharyya DepartmentofComputerScienceandEngineering IndianInstituteofTechnologyPatna,India (tirthankar.pcs ,rajeev.ee ,asif,pb)@iitp.ac.in Abstract Automaticallyvalidatingaresearchartefactis oneofthefrontiersinIntelligence (AI)thatdirectlybringsitclosetocompeting withhumanintellectandintuition.Although criticizedsometimes,theexistingpeerreview systemstillstandsasthebenchmarkofre- searchvalidation.Thepresent-daypeerreview processisnotstraightforwardanddemands profounddomainknowledge,expertise,and intelligenceofhumanreviewer(s),whichis somewhatelusivewiththecurrentstateofAI. However,thepeerreviewtexts,whichcontains richsentimentinformationofthereviewer,re- his/heroverallattitudetowardsthere- searchinthepaper,couldbeavaluableen- titytopredicttheacceptanceorrejectionof themanuscriptunderconsideration.Herein thiswork,weinvestigatetheroleofreviewers sentimentsembeddedwithinpeerreviewtexts topredictthepeerreviewoutcome.Ourpro- poseddeepneuralarchitecturetakesintoac- countthreechannelsofinformation:thepa- per,thecorrespondingreviews,andthereview polaritytopredicttheoverallrecommenda- tionscoreaswellasthedecision.We achieveperformanceimprovement overthebaselines( ˘ %errorreduction) proposedinarecentlyreleaseddatasetofpeer reviews.AnAIofthiskindcouldassisttheed- itors/programchairsasanadditionallayerof inthedecisionmaking,espe- ciallywhennon-responding/missingreviewers arefrequentinpresentdaypeerreview. Introduction Therapidincreaseinresearcharticlesubmis- sionsacrossdifferentvenuesisposingasignif- icantmanagementchallengeforthejournaled- itorsandconferenceprogramchairs .Among ApparentlyCVPR,NIPS,AAAI receivedover , , submissionsrespectively! theloadofworkslikeassigningreviewers,ensur- ingtimelyreceiptofreviews,against thenon-respondingreviewer,takinginformedde- cisions,communicatingtotheauthors,etc.,edi- tors/programchairsareusuallyoverwhelmedwith manysuchdemandingyetcrucialtasks.However, themajorhurdleliesintodecidetheacceptance andrejectionofthemanuscriptsbasedonthere- viewsreceivedfromthereviewers. Thequality,randomness,bias,inconsistencies inpeerreviewsiswell-debatedacrosstheaca- demiccommunity( BornmannandDaniel , ). Duetotheriseinarticlesubmissionsandnon- availabilityofexpertreviewers,editors/program chairsaresometimesleftwithnootheroptions thantoassignpaperstothenovice,outofdomain reviewerswhichsometimesresultsinmoreincon- sistenciesandpoorqualityreviews.Tostudythe arbitrarinessinherentintheexistingpeerreview system,organisersoftheNIPS conference assigned %submissionstotwodifferentsets ofreviewersandobservedthatthetwocommit- teesdisagreedformorethanquarterofthepapers ( LangfordandGuzdial , ).Againitisquite commonthatapaperrejectedinonevenuegets thecutinanotherwithlittleoralmostnoimprove- mentinquality.Manyareoftheopinionthatthe existingpeerreviewsystemisfragileasitonlyde- pendsontheviewofaselectedfew( Smith , ). Moreover,evenapreliminarystudyintothein- nersofthepeerreviewsystemisitselfverydif cultbecauseofdataandcopyright issuesofthepublishers.However,thesilverlin- ingisthatthepeerreviewsystemisevolvingwith thelikesofOpenReviews ,authorresponseperi- ods/rebuttals,increasedeffectivecommunications betweenauthorsandreviewers,openaccessinitia- tives,peerreviewworkshops,reviewformswith https://openreview.net objectivequestionnaires,etc.gainingmomentum. ThePeerReaddataset( Kangetal. , )isan excellentresourcetowardsresearchandstudyon thisveryimpactfulandcrucialproblem.Withour ongoingefforttowardsthedevelopmentofanAr- Intelligence(AI)-assistedpeerreviewsys- tem,weareintriguedwith: Whatifthereisanad- ditionalAIreviewerwhichpredictsdecisionsby learningthehigh-levelinterplaybetweenthere- viewtextsandthepapers?Howwouldthesen- timentembeddedwithinthereviewtextsempower suchdecision-making? Althougheditors/program chairsusuallygobythemajorityofthereviewer recommendations,theystillneedtogothroughall thereviewtextscorrespondingtoallthesubmis- sions.Agoodusecaseofthisresearchwouldbe: themissingreviewer,providinganad- ditionalperspectivetotheeditorincasesofcon- trasting/borderlinereviews.Thisworkinnoway attemptstoreplacethehumanreviewers;instead, weareintriguedtoseehowanAIcanactasan additionalreviewerwithinputsfromherhuman counterpartsandaidthedecision-makinginthe peerreviewprocess. Wedevelopadeepneuralarchitectureincorpo- ratingfullpaperinformationandreviewtextalong withtheassociatedsentimenttopredicttheac- ceptabilityandrecommendationscoreofagiven researcharticle.Weperformtwotasks,a cation(predictingaccept/rejectdecision)andare- gression(predictingrecommendationscore)one. Theevaluationshowsthatourproposedmodel successfullyoutperformstheearlierreportedre- sultsinPeerRead.Wealsoshowthattheaddition ofreviewsentimentcomponenten- hancesthepredictivecapabilityofsuchasystem. RelatedWork Intelligenceinacademicpeerreviewis animportantyetlessexploredterritory.How- ever,withtherecentprogressinAIresearch,the topicisgraduallygainingattentionfromthecom- munity. PriceandFlach ( )didathorough studyofthevariousmeansofcomputationalsup- porttothepeerreviewsystem. Mrowinskietal. ( )exploredanevolutionaryalgorithmtoim- proveeditorialstrategiesinpeerreview.Thefa- mousTorontoPaperMatchingsystem( Charlin andZemel , )wasdevelopedtomatchpa- perwithreviewers.Recentlywe( Ghosaletal. , b , a )investigatedtheimpactofvariousfea- turesintheeditorialpre-screeningprocess. Wang andWan ( )exploredamulti-instancelearning frameworkforsentimentanalysisfromthepeerre- viewtexts.Wecarryourcurrentinvestigationson aportionoftherecentlyreleasedPeerReaddataset ( Kangetal. , ).Studytowardsautomatedsup- portforpeerreviewwasotherwisenotpossible duetothelackofrejectedpaperinstancesandcor- respondingreviews.Ourapproachachievessig- performanceimprovementoverthetwo tasksin Kangetal. ( ).Weattribute thistotheuseofdeepneuralnetworksandaug- mentationofreviewsentimentinformationinour architecture. DataDescriptionandAnalysis ThePeerReaddatasetconsistsofpapers,asetof associatedpeerreviews,andcorrespondingac- cept/rejectdecisionswithaspectscores ofpaperscollectedfromseveraltop-tier Intelligence(AI),NaturalLanguageProcessing (NLP)andMachineLearning(ML)conferences. Table showsthedataweconsiderinourexperi- ments.WecouldnotconsiderNIPSandarXivpor- tionsofPeerReadduetothelackofaspectscores andreviews,respectively.Formoredetailsonthe datasetcreationandthetask,werequesttheread- erstoreferto Kangetal. ( ).Wefurtheruse thesubmissionsofICLR ,correspondingre- viewsandaspectscorestoboostourtrainingset forthedecisionpredictiontask.Onemotivationof ourworkstemsfromthethataspectscores forcertainfactorslike Impact , Originality , Sound- ness/Correctness whichareseeminglycentralto themeritofthepaper,oftenhaveverylowcor- relationwiththerecommendationmadeby thereviewersasismadeevidentin Kangetal. ( ).However,fromtheheatmapinFigure wecanseethatthereviewer'ssentiments(com- pound/positive)embeddedwithinthereviewtexts havevisiblecorrelationswiththeaspectslike Rec- ommendation , Appropriateness and OverallDeci- sion .Thisalsosecondsourrecentthatde- terminingthescopeorappropriatenessofanarti- cletoavenueistheessentialstepinpeerre- view( Ghosaletal. , a ).Sinceourstudyaims atdecidingthefateofthepaper,wetakepredict- ingrecommendationscoreandoveralldecisionas theobjectivesofourinvestigation.Thusourpro- posaltoaugmentsentimentofreviewstothedeep neuralarchitectureseemsintuitive. Venues #Papers #Reviews Aspect Acc/Rej ICLR Y / ACL Y / CoNLL Y / ICLR OnlyRec / Total Œ / Table :DatasetStatistics Figure :PearsonCorrelationofReviewSen- timent(:X)withdifferentAspectScores(:Y) onACL dataset.A ! Appropriateness, A ! Clarity,A ! Impact,A ! MeaningfulCom- parison,A ! Originality,A ! Recommendation, A ! Soundness/Correctness,A ! Substance, D ! Decision.pos ! PositiveSentimentScore, neg ! NegativeSentimentScore,neu ! NeutralSen- timentScore,com ! CompoundSentimentScore. Tocalculatethesentimentpolarityofareviewtext, wetaketheaverageofthesentencewisesentiment scoresfromValenceAwareDictionaryandsEntiment Reasoner(VADER)( HuttoandGilbert , ). Methodology . Pre-processing Attheverybeginning,weconvertthepapers inPDFto.jsonencodedusingtheScience Parse library. . DeepSentiPeerArchitecture Figure illustratestheoverallarchitectureweem- ployinourinvestigation.Theleftsegmentisfor thedecisionpredictionwhiletherightsegment predictstheoverallrecommendationscore. . . DocumentEncoding Weextractfull-textsentencesfromeachresearch articleandrepresenteachsentence s i R d using theTransformervariantoftheUniversalSentence https://github.com/allenai/science-parse Encoder(USE)( Ceretal. , ), d isthedimen- sionofthesentencesemanticvectorwhichis . Apaperisthenrepresentedas, P = s s ::: s n ; P R n d beingtheconcatenationoperator, n isthemax- imumnumberofsentencesinapapertextinthe entiredataset(paddingisdonewhereverneces- sary).Similarly,wedothisforeachofthereviews andcreateareviewrepresentationas R = s s ::: s n ; R R n d n beingthemaximumnumberofsentencesinthe reviews. . . SentimentEncoding Thesentimentencodingofthereviewisdoneus- ingVADERSentimentAnalyzer.Forasentence s i ,VADERgivesavector S i , S i R .Thereview isthenencoded(paddedwherenecessary)forsen- timentas r senti = S S ::: S n ; r senti R n : . . FeatureExtractionwithConvolutional NeuralNetwork WemakeuseofaConvolutionalNeuralNetwork (CNN)toextractfeaturesfromboththepaperand reviewrepresentations.CNNhasshowngreatsuc- cessinsolvingtheNLPproblemsinrecentyears. Theconvolutionoperationworksbyslidinga W f k R l d toawindowoflength l ,theoutputof such h th windowisgivenas, f k h = g ( W f k X h l + : h + b k ) X h l + : h meansthe l sentenceswithinthe h th windowinPaper P . b k isthebiasforthe k th , g () isthenon-linearfunction.Thefeaturemap f k forthe k th isthenobtainedbyapplyingthis Figure : DeepSentiPeer :ASentimentAwareDeepNeuralArchitecturetoPredictReviewerRecommendation Score.Decision-LevelFusionandFeature-LevelFusionofSentimentareshownforTask andTask ,respectively. toeachpossiblewindowofsentencesinthe P as f k =[ f k ; f k ;:::; f k h ;:::; f k n l + ] ; f k R n l + : Wethenapplyamax-poolingoperationtothis termaptogetthemostfeature, ^ f k as ^ f k = max ( f k ) .Forapaper P ,theoutputof thisconvolutionisthengivenas p =[ ^ f ; ^ f ;:::; ^ f k ;:::; ^ f F ] ; p R F ; F isthetotalnumberofused.Inthesame way,wecanget r astheoutputoftheconvolution operatorfortheReview R . Wecalltheoutputs p and r asthehigh-levelrep- resentationfeaturevectorofthepaperandthere- view,respectively.Wethenconcatenatethesefea- turevectors(Feature-LevelFusion).Thereason weextractfeaturesfrombothistosimulatetheed- itorialww,whereinideally,theeditor/chair wouldlookatbothintothepaperandthecorre- spondingreviewstoarriveatajudgement. . . Multi-layerPerceptron WeemployaMulti-LayerPerceptron ( MLP Predict )totakethejointpaper+review representations x pr asinputtogetthe Baselines Task ! AspectScorePrediction(RMSE) TestDatasets ! ICLR z ACL y CoNLL y Approaches # MajorityBaseline . . . MeanBaseline . . . OnlyPaper( Kangetal. , ) . . . ComparingSystems OnlyReview( Kangetal. , ) . . . Paper+Review( Kangetal. , ) . . . OnlyReview . . . ProposedArchitecture Review+Sentiment . . . DeepSentiPeer Paper+Review+Sentiment . . . Table :ResultsonAspectScorePredictionTask.TrainingisdonewithonlyICLR papers/reviews, y! Cross-Domain:TrainingonICLRandtestinguponentiredataofACL/CoNLLavailableinPeerReaddataset, z! Testsetiskeptthesameas( Kangetal. , ),RMSE ! RootMeanSquaredError.CNNvariantasin( Kangetal. , )isusedasthecomparingsystem. representationas x pr = f MLP Predict ( predict ;[ p ; r ]) ; where predict representstheparametersofthe MLP Predict .Wealsoextractfeaturesfromthe reviewsentimentrepresentation x rs viaanother MLP( MLP Senti ). x rs = f MLP Senti ( senti ; r senti ) ; senti beingtheparametersof MLP Senti .Finally, wefusetheextractedreviewsentimentfeatureand jointpaper+reviewrepresentationtogethertogen- eratetheoverallrecommendationscore(Decision- LevelFusion)usingtheaftransformationas prediction =( W d [ x pr ; x rs ]+ b d ) : WeminimizetheMeanSquareError(MSE)be- tweentheactualandpredictedrecommendation score.Themotivationhereistoaugmentthehu- manjudgement(review+embeddedsentiment)re- gardingthequalityofapaperindecisionmaking. Thelong-termobjectiveistohavetheAIlearnthe notionofgoodandbadpapersfromthehuman perceptioninpeerreviewsincorrespon- dencewithpaperfull-text. . . Accept/RejectDecisions Insteadoftrainingthedeepnetworkonoverall recommendationscores,wetrainthenetworkwith thedecisionsofthepapersina setting.Theentiresetupissamebutweconcate- nateallthereviewsofaparticularpapertogether togetthereviewrepresentation.Andratherthan doingdecision-levelfusion,weperformfeature- levelfusionwherethedecisionisgivenas x prs = f MLP Predict ( ;[ p ; e r ; e x rs ]) c = Softmax ( W c x prs + b c ) ; where c istheoutputdistribution acrossacceptorrejectclasses. e r isthehigh-level representationofreviewtextafterconcatenating allreviewscorrespondingtoapaperand e x rs isthe outputof MLP Senti ontheconcatenatedreview text.WeminimizeCross-EntropyLossbetween predicted c andactualdecisions. . ExperimentalSetup Aswementionearlier,weundertaketwotasks: Task : Predictingtheoverallrecommendation score (Regression)and Task : PredictingtheAccept/RejectDecision Tocomparewith Kangetal. ( ),wekeep theexperimentalsetup(trainvstestratio)identical andre-implementtheircodestogeneratethecom- paringHowever, Kangetal. ( )per- formedTask onICLR datasetwithhand- craftedfeatures,andTask inadeeplearningset- ting.Sinceourapproachisadeepneuralnetwork based,wecrawladditionalpaper+reviewsfrom ICLR toboostthetrainingset. ForTask , n is and n is whilefor Task , n is and n is .Weemploya gridsearchforhyperparameteroptimization.For Task , F is , l is .ReLUisthenon-linear function g () ,learningrateis . .Wetrainthe modelwithSGDoptimizer,setmomentumas . Baseline Task ! Accept/Reject(Accuracy) TestDatasets ! ICLR z ACL y CoNLL y Approaches # MajorityBaseline . . . ComparingSystem OnlyPaper( Kangetal. , ) : . . OnlyReview . . . ProposedArchitecture Review+Sentiment . . . DeepSentiPeer Paper+Review+Sentiment . . . Table :ResultsonAccept/RejectTasks.TrainingisdonewithICLR +ICLR pa- pers/reviews, y! Cross-Domain:TrainingonICLRandtestingupontheentiredataofACL/CoNLL, z Test Setiskeptthesameas( Kangetal. , ),RMSE ! RootMeanSquaredError, ! . %ifonlytrainedwith ICLR ,ComparingSystem( Kangetal. , )isfeature-basedandconsidersonlypaper,andnotthereviews. andbatchsizeas .Wekeepdropoutat . .We usethesamenumberofwiththesameker- nelsizeforbothpaperandreview.InTask ,for Paper CNN F is , l is andforReview CNN F is and l is .Againwetrainthemodelwith AdamOptimizer,keepthebatchsizeas anduse . asthedropoutratetopreventovWe intentionallykeepourCNN/MLPshallowdueto lesstrainingdata.Wemakeourcodes available forfurtherexplorations. ResultsandAnalysis Table andTable showourresultsforboth thetasks.Weproposeasimplebuteffective architectureinthisworksinceourprimary intentistoestablishthatasentiment-awaredeep architecturewouldbettersuitthesetwoproblems. For Task ,wecanseethatourreviewsentiment augmentedapproachoutperformsthebaselines andthecomparingsystemsbyawidemargin( ˘ %reductioninerror)ontheICLR dataset. Withonlyusingreview+sentimentinformation, wearestillabletooutperform Kangetal. ( ) byamarginof %intermsofRMSE.Afurther relativeerrorreductionof %withtheaddition ofpaperfeaturesstronglysuggeststhatonly reviewisnotsuffortherecommen- dation.Ajointmodelofthepapercontentand reviewtext(thehumantouch)augmentedwiththe underlyingsentimentwouldefguidethe prediction. For Task ,weobservethatthehandcrafted feature-basedsystemby Kangetal. ( )per- formsinferiorcomparedtothebaselines.Thisis becausethefeatureswereverynaiveanddidnot https://github.com/aritzzz/DeepSentiPeer addressthecomplexityinvolvedinsuchatask.We performbetterwitharelativeimprovementof % intermsofaccuracy,andalsooursystemisend-to- endtrained.Presumably,tosomeextent,ourdeep neuralnetworklearnedtodistinguishbetweenthe probableacceptversusprobablerejectbyextract- ingusefulinformationfromthepaperandreview data. . Cross-DomainExperiments Withtheadditional(butless)dataofACL andCoNLL inPeerRead,weperformthe cross-domainexperiments.Wedotrainingwith theICLRdata(coreMachineLearningpapers) andtakethetestsetfromtheNLPconferences (ACL/CoNLL).NLPnowadaysismostlymachine learning(ML)centric,whereweseveralap- plicationsandextensiveusageofMLalgorithms toaddressdifferentNLPproblems.Hereweob- servearelativeerrorreductionof . %and . % overthecomparingsystemforACL and CoNLL ,respectively(Table ).Forthede- cisionpredictiontask,thecomparingsystemper- formsevenworse,andweoutperformthembya considerablemarginof %(ACL )and % (CoNLL ),respectively(Table ).Thereason isthattheworkreportedin Kangetal. ( )re- liesonelementaryhandcraftedfeaturesextracted onlyfromthepaper;doesnotconsiderthereview featureswhereasweincludethereviewfeatures alongwiththesentimentinformationinourdeep neuralarchitecture.However,wealsothatour approachwithonlyReview+Sentimentperforms inferiortothePaper+Reviewmethodin Kangetal. ( )forACL .Thisagainsecondsthatin- clusionofpaperisvitalinrecommendationde- cisions.Onlypaperisenoughforahumanre- viewer,butwiththecurrentstateofAI,anAI reviewerwouldneedthesupervisionofherhu- mancounterpartstoarriveatarecommendation. Sooursystemissuitedtocaseswheretheeditor needsanadditionaljudgmentregardingasubmis- sion(suchasdealingwithmissing/non-responding reviewers,anaddedlayerofwithanAI whichisawareofthepastacceptances/rejections ofavenue). Analysis:EffectofSentimenton Reviewer'sRecommendation Figure :Projectionsoftheoutputactivationsofthe layerof MLP Senti .PointsareannotatedforRe- viewsfromTable .X:PredictedRecommendation Scores,Y:SentimentActivations Scores PC ActualvsPrediction . PredictionvsSentimentActivations - . ActualvsSentimentActivations - . Table :PearsonCorrelation(PC)Coefbetween the RecommendationScores and SentimentActivations . Thisistoaccountforthefactthatsentimentisactually correlatedwiththepredictionsignifyingthestrengthof themodel. Figure showstheoutputactivations fromthe layerof MLP Senti againstthepredictedrec- ommendationscores.Wecanseethatthepapers arediscriminatedintovisibleclustersaccording totheirrecommendationscores.Thisprovesthat DeepSentiPeer canextractusefulfeaturesinclose correspondencetohumanjudgments.FromFig- ure andTable ,weseethatthesentimentac- tivationsarestronglycorrelated(negatively)with WecallthemasSentimentActivations theactualandpredictedrecommendationscores. Therefore,wehypothesizethatourmodeldraws considerablestrengthifthereviewtexthasproper sentimentembeddedinit.Tofurtherinvesti- gatethis,wesamplethepapers/reviewsfromthe ICLR testset.Weconsideractualreview textandthesentimentembeddedthereintoexam- inetheperformanceofthesystem(SeeTable ). Wetruncatethelengthyreviewtextsandprovide theOpenReviewlinksforreference.Appendix AshowstheheatmapsofVadersentimentscores generatedforindividualsentencescorresponding toeachpaperreviewinTable .Weherebyac- knowledgethatsincethescholarlyreviewtextsare mostlyobjectiveandnotstraightforward,thescore forneutralpolarityisstrongasopposedtopos- itive,andnegative.Butstill,wecanseevisible polaritiesforreviewsentenceswhicharepositive ornegativeinsentiment.Forinstance,thesecond lastsentence(s ): ﬁThepaperisnotwellwritten eitherﬂ fromR hasvisiblenegativeweightinthe heatmap(Figure inAppendixA).Samecanbe observedfortheotherreviewsentencesaswell. Figure :NormalizedConfusionMatrixforAc- cept/RejectDecisionsonICLR testdatawith DeepSentiPeer (Paper+Review+Sentiment)model. Besidestheobjectiveevaluationofthepaperin thepeerreviews,thereviewer'sopinioninthepeer reviewtextholdsstrongcorrespondencewiththe overallrecommendationscore.Wecanqualita- tivelyseethatthereviewsR ,R ,andR arepo- larizedtowardsthenegativesentiment(Table ). Ourmodelcanefpredictareasonablerec- ommendationscorewithrespecttohumanjudg- ment.SamewecansayforR wherethereview mostlyapositivesentimentpolarity.R providesaninterestingobservation.Weseethat thereviewR isnotveryexpressiveforsucha # PaperTitle ReviewText Prediction Actual Senti Act R Multi-label learning withthe RNNsfor Fashion Search ŠThetechnicalcontributionofthispaperisnotclear.Mostoftheapproachesusedarestandard state-of-artmethodsandtherearenotmuchnovelties.Foramulti-labelrecognitiontask,there areotheravailablemethods,e.g.usingbinarymodels,changingcross-entropylossfunction, etc.ThereisnotanycomparisonbetweentheRNNmethodandothersimplebaselines.The orderofthesequentialRNNpredictionisnotcleareither.Itseemsthattheattributesforma treehierarchy,andthatisusedastheorderofsequence.Thepaperisnotwellwritteneither.Š https://openreview.net/forum?id=HyWDCXjgx&noteId=B Mp grVl . R Transformation basedMod- elsofVideo Sequences ŠWhileIagreewiththeauthorsonthesepoints,Ialsothatthepapersufferfromimportant -thechoiceofnotcomparingwithpreviousapproachesintermofpixel predictionerrorseemsveryﬂconvenientﬂ,tosaytheleast.Whileitisclearthattheevaluation metricisimperfect,itisnotareasontocompletelydismissallquantitativecomparisonswith previouswork.Theframesoutputbythenetworkon,e.g.themovingdigitsdatasets(Figure ),looksokandcanbecomparedwithotherpapers.Yet,theauthorschosenotto, whichissuspicious.Š https://openreview.net/forum?id=HkxAAvcxx&noteId= SJE -lkVx . R Ef Calcu- lationof Polynomial Features onSparse Matrices ŠManymorerelevantpapersshouldbecitedfromtherecentliterature.Theexperimentpartis veryweak.ThispaperclaimsthatthetimecomplexityoftheiralgorithmisO( d k D k ),which isanimprovementoverstandardmethodO( d k )byafactor d k Butintheexperiments,when d= ,thereisstillalargegap( svs. s)betweentheproposedmethodandthestandardone. Theauthorsexplainthisasﬂlikelyalanguageimplementationﬂ,whichisnotconvincing.To fairlycomparethetwomethods,ofcourseyouneedtoimplementbothinthesameprogramming languageandrunexperimentsinthesameenvironment.Forhigherdegreefeatureexpansion, thereisnoempiricalexperimentstoshowtheadvantageoftheproposedmethod.Š https: //openreview.net/forum?id=S j RqYxg&noteId=B Fn Vg . R Ef Vector Represen- tationfor Documents through Corruption ŠWhilenoneofthepiecesofthismodelareparticularlynovel,theresultisaneflearning algorithmfordocumentrepresentationwithgoodempiricalperformance.Jointtrainingofword anddocumentembeddingsisnotanewidea,noristheideaofenforcingthedocumenttobe representedbythesumofitswordembeddings(see,e.g.see,e.g.ﬂTheSumofItsPartsﬂ:Joint LearningofWordandPhraseRepresentationswithAutoencoders'byLebretandCollobert). Furthermore,thecorruptionmechanismisnothingotherthantraditionaldropoutontheinput layer.Coupledwiththeword vec-stylelossandtrainingmethods,thispaperofferslittleonthe noveltyfront.Ontheotherhand,itisveryefatgenerationtime,requiringonlyanaverage ofthewordembeddingsratherthanacomplicatedinferencestepasinDoc Vec.Moreover,by construction,theembeddingcapturessalientglobalinformationaboutthedocumentŒitcaptures thatinformationthataidsinlocal-contextprediction.Forsuchasimplemodel,the performanceonsentimentanalysisanddocumentisquiteencouraging.Overall, despitethelackofnovelty,thesimplicity,ef,andperformanceofthismodelmakeitworthy ofwiderreadershipandstudy,andIrecommendacceptance.Š https://openreview.net/ forum?id=B Igu ogg&noteId=rJBM YbVg - . R R Towards aNeural Statistician ŠHierarchicalmodelingisanimportantandhighimpactproblem,andIthinkthatit'sunder- exploredintheDeepLearningliterature.Pros:-Thefew-shotlearningresultslookgood,butI' mmnotanexpertinthisarea.-Theideaofusingaﬂdoubleﬂvariationalboundinahierarchi- calgenerativemodeliswellpresentedandseemswidelyapplicable.Questions:-Whentraining thestatisticnetwork,areminibatches(i.e.subsetsoftheexamples)used?-Ifnot,doesusing minibatchesactuallygiveyouanunbiasedestimatorofthefullgradient(ifyouhadusedallex- amples)?Forexample,whatifthestatisticnetworkwantstopulloutif*any*examplefromthe datasethasacertainfeatureandtreatthatasthecharacterization.Thisseemstothegraph- icalmodelontherightsideofe .Ifyourstatisticnetworkistrainedonminibatches,it won'tbeabletolearnthischaracterization,becauseagivenminibatchwillbemissingsome oftheexamplesfromthedataset.Usingminibatches(asopposedtousingallexamplesinthe dataset)totrainthestatisticnetworkseemslikeitwouldlimittheexpressivepowerofthemodelŠ https://openreview.net/forum?id=HJDBUF le&noteId=HyWm orEx - . R Arecurrent neuralnet- workwith- outchaos Theauthorsofthepapersetouttoanswerthequestionwhetherchaoticbehaviourisanecessary ingredientforRNNstoperformwellonsometasks.Forthatquestion'ssake,theyproposeanar- chitecturewhichisdesignedtonothavechaos.Thesubsequentexperimentsvalidatetheclaim thatchaosisnotnecessary.Thispaperisrefreshing.Insteadofproposinganotherincremental improvement,theauthorsstartoutwithaclearhypothesisandtestit.Thismightsetthebasefor futuredesignprinciplesofRNNs.Theonlydownsideisthattheexperimentsareonlyconductedon taskswhichareknowntobenotthatdemandingfromadynamicalsystemsperspective;itwould havebeenniceiftheauthorshadtraversedthesetofdatasetsmoretodatawherechaos isactuallynecessary. https://openreview.net/forum?id=S dIzvclg&noteId= H LYxY l - . R Batch Policy Gradient Methodsfor Improving Neural Conver- sation Models Theauthorproposetouseaoff-policyactor-criticalgorithminabatch-settingtoimprovechat- bots.Theapproachiswellmotivatedandthepaperiswellwritten,exceptforsomeintuitions forwhythebatchversionoutperformstheon-lineversion(seecommentsonre- gardingbatchvs.onlinesettingﬂ).Theexperimentsareinstructive,andthereal-world experimentswereperformedverythoroughlyalthoughtheresultsshowonlymodestimprovement. https://openreview.net/forum?id=rJfMusFll&noteId=H bSmrx x - . Table :Aqualitativestudyoftheeffectofsentimentintheoverallrecommendationscoreprediction.Prediction ! istheoverallrecommendationscorepredictedbyoursystem,Actual ! istherecommendationscoregiven byreviewers. Senti Act aretheoutputactivationsfromthelayerof MLP Senti whichareaugmentedtothe decisionlayerforrecommendationscoreprediction.Thecorrespondencebetweenthesentimentembedded withinthereviewtextsandSentimentActivationsarefairlyvisibleinFigure .KindlyrefertoAppendixAfor polaritystrengthsinindividualreviewsentences.TheOpenReviewlinksinthetableabovegivethefullreview texts. highrecommendationscore .Itstartswithintro- ducingtheauthorsworkandlistingthestrengths andlimitationsoftheworkwithoutmuch(and necessary)details.Ourmodelhencepredicts as therecommendationscore.WhereasR canbe seenasthecaseofausualwell-writtenreview,ex- pressingthepositiveandnegativeaspectsofthe papercoherently.Ourmodelpredicts foranac- tualrecommendationscoreof .Thesevalidate theroleofthereviewer'sopinionandsentimentto predicttherecommendationscore,andourmodel iscompetentenoughtotakeintoaccounttheover- allpolarityofthereview-texttodrivethepredic- tion.Figure presentstheconfusionmatrixofour proposedmodelonICLR testdataforTask . Conclusion Hereinthiswork,weshowthatthereviewersen- timentinformationembeddedwithinpeerreview textscouldbeleveragedtopredictthepeerreview outcomes.Ourdeepneuralarchitecturemakesuse ofthreeinformationchannels:thepaperfull-text, correspondingpeerreviewtextsandthesentiment withinthereviewstoaddressthecomplextaskof decisionmakinginpeerreview.Withfurtherex- ploration,weaimtomouldtheongoingresearch toanefAI-enabledsystemthatwouldassist thejournaleditorsorconferencechairsinmak- inginformeddecisions.However,consideringthe sensitivityofthetopic,wewouldliketofurther divedeepintoexploringthesubtlenuancesthat leadsintothegradingofpeerreviewaspects.We foundthatreviewreliabilitypredictionshouldpre- ludethesetaskssincenotallreviewsareofequal qualityoraretothedecisionmak- ing.Weaimtoincludereviewreliabilitypredic- tioninthepipelineofourfuturework.However, weareinconsensusthatscholarlylanguagepro- cessingisnotstraightforward.Weneedstronger, pervasivemodelstocapturethehigh-levelinter- playofthepaperandpeerreviewstodecidethe fateofamanuscript.Weintendtoworkupon thoseandalsoexploremoresophisticatedtech- niquesforsentimentpolarityencoding. Acknowledgements Theauthor,TirthankarGhosal,acknowledges VisvesvarayaPhDSchemeforElectronicsandIT, aninitiativeofMinistryofElectronicsandInfor- mationTechnology(MeitY),GovernmentofIn- diaforfellowshipsupport.Thethirdauthor,Asif Ekbal,acknowledgesYoungFacultyResearch Fellowship(YFRF),supportedbyVisvesvaraya PhDschemeforElectronicsandIT,Ministryof ElectronicsandInformationTechnology(MeitY), GovernmentofIndia,beingimplementedbyDig- italIndiaCorporation(formerlyMediaLabAsia). WealsothankElsevierCenterofExcellencefor NaturalLanguageProcessing,IndianInstituteof TechnologyPatnaforadequateinfrastructuralsup- porttocarryoutthisresearch.Finally,weappreci- atetheanonymousreviewersfortheircriticaleval- uationofourworkandsuggestionstocarryfor- wardfromhere. References LutzBornmannandHans-DieterDaniel. . Re- liabilityofreviewers'ratingswhenusingpublic peerreview:acasestudy . LearnedPublishing , ( ): Œ . DanielCer,YinfeiYang,Sheng-yiKong,NanHua, NicoleLimtiaco,RhomniSt.John,NoahConstant, MarioGuajardo-Cespedes,SteveYuan,ChrisTar, BrianStrope,andRayKurzweil. . Univer- salsentenceencoderforenglish .In Proceedings ofthe ConferenceonEmpiricalMethodsin NaturalLanguageProcessing,EMNLP :Sys- temDemonstrations,Brussels,Belgium,October -November , ,pages Œ . LaurentCharlinandRichardZemel. .The torontopapermatchingsystem:anautomatedpaper- reviewerassignmentsystem. TirthankarGhosal,RaviSonam,SriparnaSaha,Asif Ekbal,andPushpakBhattacharyya. a.Inves- tigatingdomainfeaturesforscopedetectionand ofarticles.In Proceed- ingsoftheEleventhInternationalConferenceon LanguageResourcesandEvaluation(LREC ) , Paris,France.EuropeanLanguageResourcesAsso- ciation(ELRA). TirthankarGhosal,RajeevVerma,AsifEkbal,Sriparna Saha,andPushpakBhattacharyya. b. Inves- tigatingimpactfeaturesineditorialpre-screening ofresearchpapers .In Proceedingsofthe th ACM/IEEEonJointConferenceonDigitalLi- braries,JCDL ,FortWorth,TX,USA,June - , ,pages Œ . ClaytonJ.HuttoandEricGilbert. . VADER:A parsimoniousrule-basedmodelforsentimentanal- ysisofsocialmediatext .In Proceedingsofthe EighthInternationalConferenceonWeblogsand SocialMedia,ICWSM ,AnnArbor,Michigan, USA,June - , . DongyeopKang,WaleedAmmar,BhavanaDalvi, MadeleinevanZuylen,SebastianKohlmeier,Ed- uardH.Hovy,andRoySchwartz. . Adataset ofpeerreviews(peerread):Collection,insightsand NLPapplications .In Proceedingsofthe Con- ferenceoftheNorthAmericanChapteroftheAsso- ciationforComputationalLinguistics:HumanLan- guageTechnologies,NAACL-HLT ,NewOr- leans,Louisiana,USA,June - , ,Volume (LongPapers) ,pages Œ . JohnLangfordandMarkGuzdial. . Thearbitrari- nessofreviews,andadviceforschooladministra- tors . Commun.ACM , ( ): Œ . MaciejJMrowinski,PiotrFronczak,AgataFronczak, MarcelAusloos,andOlgicaNedic. . cialintelligenceinpeerreview:Howcanevolution- arycomputationsupportjournaleditors? PloSone , ( ):e . SimonPriceandPeterA.Flach. . Computa- tionalsupportforacademicpeerreview:aperspec- tivefromintelligence . Commun.ACM , ( ): Œ . RichardSmith. .Peerreview:awedprocess attheheartofscienceandjournals. Journalofthe royalsocietyofmedicine , ( ): Œ . KeWangandXiaojunWan. . Sentimentanaly- sisofpeerreviewtextsforscholarlypapers .In The stInternationalACMSIGIRConferenceonRe- search&DevelopmentinInformationRetrieval,SI- GIR ,AnnArbor,MI,USA,July - , , pages Œ . AHeatmapsDepictingSentiment PolarityinReviewTexts Figure :Heatmapsofthesentence-wiseVADERsen- timentpolarityofreviewsconsideredinTable .Re- viewsgenerallythepolarityofthereviewerto- wardstherespectivework. s ...sn ! arethesentences inthepeerreviewtexts. \""
            ],
            "application/vnd.google.colaboratory.intrinsic+json": {
              "type": "string"
            }
          },
          "metadata": {},
          "execution_count": 17
        }
      ]
    },
    {
      "cell_type": "markdown",
      "source": [
        "#Summarization using Text Rank Algorithm"
      ],
      "metadata": {
        "id": "WATJ6079f8xl"
      }
    },
    {
      "cell_type": "code",
      "source": [
        "#mock data ->Introduction from DeepSentiPeer paper\n",
        "text_data= \"\"\"The rapid increase in research article submis\u0002sions across different venues is posing a signif\u0002icant management challenge for the journal ed\u0002itors and conference program chairs.Among the load of works like assigning reviewers, ensur\u0002ing timely receipt of reviews, slot-filling against the non-responding reviewer, taking informed de\u0002cisions, communicating to the authors, etc., edi\u0002tors/program chairs are usually overwhelmed with many such demanding yet crucial tasks. However, the major hurdle lies in to decide the acceptance and rejection of the manuscripts based on the re\u0002views received from the reviewers.The quality, randomness, bias, inconsistencies in peer reviews is well-debated across the aca\u0002demic community (Bornmann and Daniel, 2010). Due to the rise in article submissions and non\u0002availability of expert reviewers, editors/program chairs are sometimes left with no other options than to assign papers to the novice, out of domain reviewers which sometimes results in more incon\u0002sistencies and poor quality reviews. To study the arbitrariness inherent in the existing peer review system, organisers of the NIPS 2014 conference assigned 10% submissions to two different sets of reviewers and observed that the two commit\u0002tees disagreed for more than quarter of the papers (Langford and Guzdial, 2015). Again it is quite common that a paper rejected in one venue gets the cut in another with little or almost no improve\u0002ment in quality. Many are of the opinion that the existing peer review system is fragile as it only de\u0002pends on the view of a selected few (Smith, 2006). Moreover, even a preliminary study into the in\u0002ners of the peer review system is itself very diffi\u0002cult because of data confidentiality and copyright issues of the publishers. However, the silver lin\u0002ing is that the peer review system is evolving with the likes of OpenReviews2 , author response peri\u0002ods/rebuttals, increased effective communications between authors and reviewers, open access initia\u0002tives, peer review workshops, review forms\"\"\""
      ],
      "metadata": {
        "id": "phL4P9xiep2z"
      },
      "execution_count": null,
      "outputs": []
    },
    {
      "cell_type": "code",
      "source": [
        "#loading spacy model\n",
        "nlp_model = English()"
      ],
      "metadata": {
        "id": "I_GYrsp1ep_Z"
      },
      "execution_count": null,
      "outputs": []
    },
    {
      "cell_type": "code",
      "source": [
        "nlp_model.add_pipe(nlp_model.create_pipe('sentencizer'))"
      ],
      "metadata": {
        "id": "acowDlhce_8i"
      },
      "execution_count": null,
      "outputs": []
    },
    {
      "cell_type": "code",
      "source": [
        "#creating spacy document\n",
        "document = nlp_model(text_data.replace(\"\\n\",\" \"))"
      ],
      "metadata": {
        "id": "zqOxLMM_fWfq"
      },
      "execution_count": null,
      "outputs": []
    },
    {
      "cell_type": "code",
      "source": [
        "sentences = [sent.string.strip() for sent in document.sents]"
      ],
      "metadata": {
        "id": "WtiYjIHWgOFy"
      },
      "execution_count": null,
      "outputs": []
    },
    {
      "cell_type": "code",
      "source": [
        "sentences"
      ],
      "metadata": {
        "colab": {
          "base_uri": "https://localhost:8080/"
        },
        "id": "0NvKjeMEg_Iy",
        "outputId": "4375d052-c083-4cf0-c5f4-9fa6d21483dc"
      },
      "execution_count": null,
      "outputs": [
        {
          "output_type": "execute_result",
          "data": {
            "text/plain": [
              "['The rapid increase in research article submis\\x02sions across different venues is posing a signif\\x02icant management challenge for the journal ed\\x02itors and conference program chairs.',\n",
              " 'Among the load of works like assigning reviewers, ensur\\x02ing timely receipt of reviews, slot-filling against the non-responding reviewer, taking informed de\\x02cisions, communicating to the authors, etc.,',\n",
              " 'edi\\x02tors/program chairs are usually overwhelmed with many such demanding yet crucial tasks.',\n",
              " 'However, the major hurdle lies in to decide the acceptance and rejection of the manuscripts based on the re\\x02views received from the reviewers.',\n",
              " 'The quality, randomness, bias, inconsistencies in peer reviews is well-debated across the aca\\x02demic community (Bornmann and Daniel, 2010).',\n",
              " 'Due to the rise in article submissions and non\\x02availability of expert reviewers, editors/program chairs are sometimes left with no other options than to assign papers to the novice, out of domain reviewers which sometimes results in more incon\\x02sistencies and poor quality reviews.',\n",
              " 'To study the arbitrariness inherent in the existing peer review system, organisers of the NIPS 2014 conference assigned 10% submissions to two different sets of reviewers and observed that the two commit\\x02tees disagreed for more than quarter of the papers (Langford and Guzdial, 2015).',\n",
              " 'Again it is quite common that a paper rejected in one venue gets the cut in another with little or almost no improve\\x02ment in quality.',\n",
              " 'Many are of the opinion that the existing peer review system is fragile as it only de\\x02pends on the view of a selected few (Smith, 2006).',\n",
              " 'Moreover, even a preliminary study into the in\\x02ners of the peer review system is itself very diffi\\x02cult because of data confidentiality and copyright issues of the publishers.',\n",
              " 'However, the silver lin\\x02ing is that the peer review system is evolving with the likes of OpenReviews2 , author response peri\\x02ods/rebuttals, increased effective communications between authors and reviewers, open access initia\\x02tives, peer review workshops, review forms']"
            ]
          },
          "metadata": {},
          "execution_count": 80
        }
      ]
    },
    {
      "cell_type": "code",
      "source": [
        "organized_sentences = {k:v for v,k in enumerate(sentences)}\n",
        "organized_sentences"
      ],
      "metadata": {
        "colab": {
          "base_uri": "https://localhost:8080/"
        },
        "id": "-zQhR4FeiGX7",
        "outputId": "ebf48fe4-bb04-4b37-99f7-2db6dff3f4fc"
      },
      "execution_count": null,
      "outputs": [
        {
          "output_type": "execute_result",
          "data": {
            "text/plain": [
              "{'Again it is quite common that a paper rejected in one venue gets the cut in another with little or almost no improve\\x02ment in quality.': 7,\n",
              " 'Among the load of works like assigning reviewers, ensur\\x02ing timely receipt of reviews, slot-filling against the non-responding reviewer, taking informed de\\x02cisions, communicating to the authors, etc.,': 1,\n",
              " 'Due to the rise in article submissions and non\\x02availability of expert reviewers, editors/program chairs are sometimes left with no other options than to assign papers to the novice, out of domain reviewers which sometimes results in more incon\\x02sistencies and poor quality reviews.': 5,\n",
              " 'However, the major hurdle lies in to decide the acceptance and rejection of the manuscripts based on the re\\x02views received from the reviewers.': 3,\n",
              " 'However, the silver lin\\x02ing is that the peer review system is evolving with the likes of OpenReviews2 , author response peri\\x02ods/rebuttals, increased effective communications between authors and reviewers, open access initia\\x02tives, peer review workshops, review forms': 10,\n",
              " 'Many are of the opinion that the existing peer review system is fragile as it only de\\x02pends on the view of a selected few (Smith, 2006).': 8,\n",
              " 'Moreover, even a preliminary study into the in\\x02ners of the peer review system is itself very diffi\\x02cult because of data confidentiality and copyright issues of the publishers.': 9,\n",
              " 'The quality, randomness, bias, inconsistencies in peer reviews is well-debated across the aca\\x02demic community (Bornmann and Daniel, 2010).': 4,\n",
              " 'The rapid increase in research article submis\\x02sions across different venues is posing a signif\\x02icant management challenge for the journal ed\\x02itors and conference program chairs.': 0,\n",
              " 'To study the arbitrariness inherent in the existing peer review system, organisers of the NIPS 2014 conference assigned 10% submissions to two different sets of reviewers and observed that the two commit\\x02tees disagreed for more than quarter of the papers (Langford and Guzdial, 2015).': 6,\n",
              " 'edi\\x02tors/program chairs are usually overwhelmed with many such demanding yet crucial tasks.': 2}"
            ]
          },
          "metadata": {},
          "execution_count": 81
        }
      ]
    },
    {
      "cell_type": "code",
      "source": [
        "#TFIDF feature extraction\n",
        "cv = TfidfVectorizer()\n",
        "X = cv.fit_transform(sentences) #to transform sentences into tfidf vectors\n",
        "X"
      ],
      "metadata": {
        "colab": {
          "base_uri": "https://localhost:8080/"
        },
        "id": "2DdT_O_-dvZK",
        "outputId": "ee1e650e-6dae-4a15-d641-5cca15f08dad"
      },
      "execution_count": null,
      "outputs": [
        {
          "output_type": "execute_result",
          "data": {
            "text/plain": [
              "<11x196 sparse matrix of type '<class 'numpy.float64'>'\n",
              "\twith 281 stored elements in Compressed Sparse Row format>"
            ]
          },
          "metadata": {},
          "execution_count": 82
        }
      ]
    },
    {
      "cell_type": "code",
      "source": [
        "#sentence scores \n",
        "scores = np.array(X.sum(axis=1)).ravel()\n",
        "scores"
      ],
      "metadata": {
        "colab": {
          "base_uri": "https://localhost:8080/"
        },
        "id": "MHOx_7vXd39R",
        "outputId": "1d2c5a10-b218-4abd-faf4-55859afc00cb"
      },
      "execution_count": null,
      "outputs": [
        {
          "output_type": "execute_result",
          "data": {
            "text/plain": [
              "array([4.92026898, 5.15740477, 3.70879202, 4.25052158, 4.2596318 ,\n",
              "       5.86759305, 5.72986023, 4.67578207, 4.72122314, 4.75828941,\n",
              "       5.55627753])"
            ]
          },
          "metadata": {},
          "execution_count": 83
        }
      ]
    },
    {
      "cell_type": "code",
      "source": [
        "len(sentences)"
      ],
      "metadata": {
        "colab": {
          "base_uri": "https://localhost:8080/"
        },
        "id": "v8hl_fOrkQkj",
        "outputId": "edd7d3cb-c745-4bc2-80bf-166cd8a02aa3"
      },
      "execution_count": null,
      "outputs": [
        {
          "output_type": "execute_result",
          "data": {
            "text/plain": [
              "11"
            ]
          },
          "metadata": {},
          "execution_count": 58
        }
      ]
    },
    {
      "cell_type": "code",
      "source": [
        "len(scores)"
      ],
      "metadata": {
        "colab": {
          "base_uri": "https://localhost:8080/"
        },
        "id": "MOckTajYkS7h",
        "outputId": "bc9859ca-ec50-4900-a23c-34d43ad17aff"
      },
      "execution_count": null,
      "outputs": [
        {
          "output_type": "execute_result",
          "data": {
            "text/plain": [
              "11"
            ]
          },
          "metadata": {},
          "execution_count": 59
        }
      ]
    },
    {
      "cell_type": "code",
      "source": [
        "#getting top n sequences\n",
        "N=7\n",
        "top_n = [sentences[ind] for ind in np.argsort(scores, axis=0)[::-1][:N]]\n",
        "top_n"
      ],
      "metadata": {
        "colab": {
          "base_uri": "https://localhost:8080/"
        },
        "id": "Dho5Ym9dkUzD",
        "outputId": "f84093a7-17b1-4e7a-949d-f3d2fac9813a"
      },
      "execution_count": null,
      "outputs": [
        {
          "output_type": "execute_result",
          "data": {
            "text/plain": [
              "['Due to the rise in article submissions and non\\x02availability of expert reviewers, editors/program chairs are sometimes left with no other options than to assign papers to the novice, out of domain reviewers which sometimes results in more incon\\x02sistencies and poor quality reviews.',\n",
              " 'To study the arbitrariness inherent in the existing peer review system, organisers of the NIPS 2014 conference assigned 10% submissions to two different sets of reviewers and observed that the two commit\\x02tees disagreed for more than quarter of the papers (Langford and Guzdial, 2015).',\n",
              " 'However, the silver lin\\x02ing is that the peer review system is evolving with the likes of OpenReviews2 , author response peri\\x02ods/rebuttals, increased effective communications between authors and reviewers, open access initia\\x02tives, peer review workshops, review forms',\n",
              " 'Among the load of works like assigning reviewers, ensur\\x02ing timely receipt of reviews, slot-filling against the non-responding reviewer, taking informed de\\x02cisions, communicating to the authors, etc.,',\n",
              " 'The rapid increase in research article submis\\x02sions across different venues is posing a signif\\x02icant management challenge for the journal ed\\x02itors and conference program chairs.',\n",
              " 'Moreover, even a preliminary study into the in\\x02ners of the peer review system is itself very diffi\\x02cult because of data confidentiality and copyright issues of the publishers.',\n",
              " 'Many are of the opinion that the existing peer review system is fragile as it only de\\x02pends on the view of a selected few (Smith, 2006).']"
            ]
          },
          "metadata": {},
          "execution_count": 60
        }
      ]
    },
    {
      "cell_type": "code",
      "source": [
        "#sentence ordering wrt organized sentences\n",
        "mapped_top_n_sent = [(sentence,organized_sentences[sentence]) for sentence in top_n]\n",
        "mapped_top_n_sent"
      ],
      "metadata": {
        "colab": {
          "base_uri": "https://localhost:8080/"
        },
        "id": "c4dLZ12UlKUz",
        "outputId": "d8868ec8-4b64-49d1-bd9a-f0edbec046cf"
      },
      "execution_count": null,
      "outputs": [
        {
          "output_type": "execute_result",
          "data": {
            "text/plain": [
              "[('DeepSentiPeer :HarnessingSentimentinReviewTextsToRecommend PeerReviewDecisions TirthankarGhosal,RajeevVerma,AsifEkbal,PushpakBhattacharyya DepartmentofComputerScienceandEngineering IndianInstituteofTechnologyPatna,India (tirthankar.pcs ,rajeev.ee ,asif,pb)@iitp.ac.in Abstract Automaticallyvalidatingaresearchartefactis oneofthefrontiersinIntelligence (AI)thatdirectlybringsitclosetocompeting withhumanintellectandintuition.',\n",
              "  0),\n",
              " ('Adataset ofpeerreviews(peerread):Collection,insightsand NLPapplications .In Proceedingsofthe Con- ferenceoftheNorthAmericanChapteroftheAsso- ciationforComputationalLinguistics:HumanLan- guageTechnologies,NAACL-HLT ,NewOr- leans,Louisiana,USA,June - , ,Volume (LongPapers) ,pages Œ .',\n",
              "  270),\n",
              " (\".However,fromtheheatmapinFigure wecanseethatthereviewer'ssentiments(com- pound/positive)embeddedwithinthereviewtexts havevisiblecorrelationswiththeaspectslike Rec- ommendation , Appropriateness and OverallDeci- sion .Thisalsosecondsourrecentthatde- terminingthescopeorappropriatenessofanarti- cletoavenueistheessentialstepinpeerre- view( Ghosaletal. ,\",\n",
              "  47)]"
            ]
          },
          "metadata": {},
          "execution_count": 275
        }
      ]
    },
    {
      "cell_type": "code",
      "source": [
        "for i in mapped_top_n_sent:\n",
        "  print(i)"
      ],
      "metadata": {
        "colab": {
          "base_uri": "https://localhost:8080/"
        },
        "id": "RAshxxGEmIfT",
        "outputId": "d039075a-dcd6-459b-e47d-76654fa824d2"
      },
      "execution_count": null,
      "outputs": [
        {
          "output_type": "stream",
          "name": "stdout",
          "text": [
            "('DeepSentiPeer :HarnessingSentimentinReviewTextsToRecommend PeerReviewDecisions TirthankarGhosal,RajeevVerma,AsifEkbal,PushpakBhattacharyya DepartmentofComputerScienceandEngineering IndianInstituteofTechnologyPatna,India (tirthankar.pcs ,rajeev.ee ,asif,pb)@iitp.ac.in Abstract Automaticallyvalidatingaresearchartefactis oneofthefrontiersinIntelligence (AI)thatdirectlybringsitclosetocompeting withhumanintellectandintuition.', 0)\n",
            "('Adataset ofpeerreviews(peerread):Collection,insightsand NLPapplications .In Proceedingsofthe Con- ferenceoftheNorthAmericanChapteroftheAsso- ciationforComputationalLinguistics:HumanLan- guageTechnologies,NAACL-HLT ,NewOr- leans,Louisiana,USA,June - , ,Volume (LongPapers) ,pages Œ .', 270)\n",
            "(\".However,fromtheheatmapinFigure wecanseethatthereviewer'ssentiments(com- pound/positive)embeddedwithinthereviewtexts havevisiblecorrelationswiththeaspectslike Rec- ommendation , Appropriateness and OverallDeci- sion .Thisalsosecondsourrecentthatde- terminingthescopeorappropriatenessofanarti- cletoavenueistheessentialstepinpeerre- view( Ghosaletal. ,\", 47)\n"
          ]
        }
      ]
    },
    {
      "cell_type": "code",
      "source": [
        "#ordering top n sentences in original order\n",
        "mapped_top_n_sent = sorted(mapped_top_n_sent, key = lambda x: x[1])\n",
        "mapped_top_n_sent"
      ],
      "metadata": {
        "colab": {
          "base_uri": "https://localhost:8080/"
        },
        "id": "rIMNf2eBmIlZ",
        "outputId": "f83ae58e-be8c-4533-d2f8-060be70cbd98"
      },
      "execution_count": null,
      "outputs": [
        {
          "output_type": "execute_result",
          "data": {
            "text/plain": [
              "[('DeepSentiPeer :HarnessingSentimentinReviewTextsToRecommend PeerReviewDecisions TirthankarGhosal,RajeevVerma,AsifEkbal,PushpakBhattacharyya DepartmentofComputerScienceandEngineering IndianInstituteofTechnologyPatna,India (tirthankar.pcs ,rajeev.ee ,asif,pb)@iitp.ac.in Abstract Automaticallyvalidatingaresearchartefactis oneofthefrontiersinIntelligence (AI)thatdirectlybringsitclosetocompeting withhumanintellectandintuition.',\n",
              "  0),\n",
              " (\".However,fromtheheatmapinFigure wecanseethatthereviewer'ssentiments(com- pound/positive)embeddedwithinthereviewtexts havevisiblecorrelationswiththeaspectslike Rec- ommendation , Appropriateness and OverallDeci- sion .Thisalsosecondsourrecentthatde- terminingthescopeorappropriatenessofanarti- cletoavenueistheessentialstepinpeerre- view( Ghosaletal. ,\",\n",
              "  47),\n",
              " ('Adataset ofpeerreviews(peerread):Collection,insightsand NLPapplications .In Proceedingsofthe Con- ferenceoftheNorthAmericanChapteroftheAsso- ciationforComputationalLinguistics:HumanLan- guageTechnologies,NAACL-HLT ,NewOr- leans,Louisiana,USA,June - , ,Volume (LongPapers) ,pages Œ .',\n",
              "  270)]"
            ]
          },
          "metadata": {},
          "execution_count": 277
        }
      ]
    },
    {
      "cell_type": "code",
      "source": [
        "ordered_sentences = [i[0] for i in mapped_top_n_sent]\n",
        "ordered_sentences"
      ],
      "metadata": {
        "colab": {
          "base_uri": "https://localhost:8080/"
        },
        "id": "AZACCqNqm5fr",
        "outputId": "46954e7d-2390-4f6f-c18a-49ff1c449e77"
      },
      "execution_count": null,
      "outputs": [
        {
          "output_type": "execute_result",
          "data": {
            "text/plain": [
              "['DeepSentiPeer :HarnessingSentimentinReviewTextsToRecommend PeerReviewDecisions TirthankarGhosal,RajeevVerma,AsifEkbal,PushpakBhattacharyya DepartmentofComputerScienceandEngineering IndianInstituteofTechnologyPatna,India (tirthankar.pcs ,rajeev.ee ,asif,pb)@iitp.ac.in Abstract Automaticallyvalidatingaresearchartefactis oneofthefrontiersinIntelligence (AI)thatdirectlybringsitclosetocompeting withhumanintellectandintuition.',\n",
              " \".However,fromtheheatmapinFigure wecanseethatthereviewer'ssentiments(com- pound/positive)embeddedwithinthereviewtexts havevisiblecorrelationswiththeaspectslike Rec- ommendation , Appropriateness and OverallDeci- sion .Thisalsosecondsourrecentthatde- terminingthescopeorappropriatenessofanarti- cletoavenueistheessentialstepinpeerre- view( Ghosaletal. ,\",\n",
              " 'Adataset ofpeerreviews(peerread):Collection,insightsand NLPapplications .In Proceedingsofthe Con- ferenceoftheNorthAmericanChapteroftheAsso- ciationforComputationalLinguistics:HumanLan- guageTechnologies,NAACL-HLT ,NewOr- leans,Louisiana,USA,June - , ,Volume (LongPapers) ,pages Œ .']"
            ]
          },
          "metadata": {},
          "execution_count": 278
        }
      ]
    },
    {
      "cell_type": "code",
      "source": [
        "abstract = \" \".join(ordered_sentences)\n",
        "abstract"
      ],
      "metadata": {
        "colab": {
          "base_uri": "https://localhost:8080/",
          "height": 158
        },
        "id": "SKmQyBNBnQt6",
        "outputId": "d5c0ec1d-2cb8-40b7-bea5-52d65406c5a5"
      },
      "execution_count": null,
      "outputs": [
        {
          "output_type": "execute_result",
          "data": {
            "text/plain": [
              "\"DeepSentiPeer :HarnessingSentimentinReviewTextsToRecommend PeerReviewDecisions TirthankarGhosal,RajeevVerma,AsifEkbal,PushpakBhattacharyya DepartmentofComputerScienceandEngineering IndianInstituteofTechnologyPatna,India (tirthankar.pcs ,rajeev.ee ,asif,pb)@iitp.ac.in Abstract Automaticallyvalidatingaresearchartefactis oneofthefrontiersinIntelligence (AI)thatdirectlybringsitclosetocompeting withhumanintellectandintuition. .However,fromtheheatmapinFigure wecanseethatthereviewer'ssentiments(com- pound/positive)embeddedwithinthereviewtexts havevisiblecorrelationswiththeaspectslike Rec- ommendation , Appropriateness and OverallDeci- sion .Thisalsosecondsourrecentthatde- terminingthescopeorappropriatenessofanarti- cletoavenueistheessentialstepinpeerre- view( Ghosaletal. , Adataset ofpeerreviews(peerread):Collection,insightsand NLPapplications .In Proceedingsofthe Con- ferenceoftheNorthAmericanChapteroftheAsso- ciationforComputationalLinguistics:HumanLan- guageTechnologies,NAACL-HLT ,NewOr- leans,Louisiana,USA,June - , ,Volume (LongPapers) ,pages Œ .\""
            ],
            "application/vnd.google.colaboratory.intrinsic+json": {
              "type": "string"
            }
          },
          "metadata": {},
          "execution_count": 279
        }
      ]
    },
    {
      "cell_type": "markdown",
      "source": [
        "#Using transformers"
      ],
      "metadata": {
        "id": "iq0YZeL3e2Qe"
      }
    },
    {
      "cell_type": "markdown",
      "source": [
        "#Loading important dependencies"
      ],
      "metadata": {
        "id": "0BGkC3DrfHFb"
      }
    },
    {
      "cell_type": "code",
      "source": [
        "!pip install transformers"
      ],
      "metadata": {
        "id": "OhGU8eqxnQxK",
        "colab": {
          "base_uri": "https://localhost:8080/"
        },
        "outputId": "2fbe7ecc-747a-4492-cda5-74473723e5f0"
      },
      "execution_count": null,
      "outputs": [
        {
          "output_type": "stream",
          "name": "stdout",
          "text": [
            "Requirement already satisfied: transformers in /usr/local/lib/python3.7/dist-packages (4.17.0)\n",
            "Requirement already satisfied: pyyaml>=5.1 in /usr/local/lib/python3.7/dist-packages (from transformers) (6.0)\n",
            "Requirement already satisfied: regex!=2019.12.17 in /usr/local/lib/python3.7/dist-packages (from transformers) (2019.12.20)\n",
            "Requirement already satisfied: requests in /usr/local/lib/python3.7/dist-packages (from transformers) (2.23.0)\n",
            "Requirement already satisfied: tokenizers!=0.11.3,>=0.11.1 in /usr/local/lib/python3.7/dist-packages (from transformers) (0.11.6)\n",
            "Requirement already satisfied: packaging>=20.0 in /usr/local/lib/python3.7/dist-packages (from transformers) (21.3)\n",
            "Requirement already satisfied: numpy>=1.17 in /usr/local/lib/python3.7/dist-packages (from transformers) (1.21.5)\n",
            "Requirement already satisfied: sacremoses in /usr/local/lib/python3.7/dist-packages (from transformers) (0.0.49)\n",
            "Requirement already satisfied: huggingface-hub<1.0,>=0.1.0 in /usr/local/lib/python3.7/dist-packages (from transformers) (0.4.0)\n",
            "Requirement already satisfied: filelock in /usr/local/lib/python3.7/dist-packages (from transformers) (3.6.0)\n",
            "Requirement already satisfied: importlib-metadata in /usr/local/lib/python3.7/dist-packages (from transformers) (4.11.3)\n",
            "Requirement already satisfied: tqdm>=4.27 in /usr/local/lib/python3.7/dist-packages (from transformers) (4.63.0)\n",
            "Requirement already satisfied: typing-extensions>=3.7.4.3 in /usr/local/lib/python3.7/dist-packages (from huggingface-hub<1.0,>=0.1.0->transformers) (3.10.0.2)\n",
            "Requirement already satisfied: pyparsing!=3.0.5,>=2.0.2 in /usr/local/lib/python3.7/dist-packages (from packaging>=20.0->transformers) (3.0.7)\n",
            "Requirement already satisfied: zipp>=0.5 in /usr/local/lib/python3.7/dist-packages (from importlib-metadata->transformers) (3.7.0)\n",
            "Requirement already satisfied: urllib3!=1.25.0,!=1.25.1,<1.26,>=1.21.1 in /usr/local/lib/python3.7/dist-packages (from requests->transformers) (1.24.3)\n",
            "Requirement already satisfied: idna<3,>=2.5 in /usr/local/lib/python3.7/dist-packages (from requests->transformers) (2.10)\n",
            "Requirement already satisfied: chardet<4,>=3.0.2 in /usr/local/lib/python3.7/dist-packages (from requests->transformers) (3.0.4)\n",
            "Requirement already satisfied: certifi>=2017.4.17 in /usr/local/lib/python3.7/dist-packages (from requests->transformers) (2021.10.8)\n",
            "Requirement already satisfied: joblib in /usr/local/lib/python3.7/dist-packages (from sacremoses->transformers) (1.1.0)\n",
            "Requirement already satisfied: six in /usr/local/lib/python3.7/dist-packages (from sacremoses->transformers) (1.15.0)\n",
            "Requirement already satisfied: click in /usr/local/lib/python3.7/dist-packages (from sacremoses->transformers) (7.1.2)\n"
          ]
        }
      ]
    },
    {
      "cell_type": "code",
      "source": [
        "from transformers import pipeline"
      ],
      "metadata": {
        "id": "57XDges_nQ07"
      },
      "execution_count": null,
      "outputs": []
    },
    {
      "cell_type": "markdown",
      "source": [
        "#loading summarizing pipeline "
      ],
      "metadata": {
        "id": "AMv-5r6-fMBz"
      }
    },
    {
      "cell_type": "code",
      "source": [
        "summarization = pipeline(\"summarization\")"
      ],
      "metadata": {
        "colab": {
          "base_uri": "https://localhost:8080/"
        },
        "id": "Fc_w8fxqfD9a",
        "outputId": "30ac7038-56d5-4ef0-b65e-0cdd62a2ec85"
      },
      "execution_count": null,
      "outputs": [
        {
          "output_type": "stream",
          "name": "stderr",
          "text": [
            "No model was supplied, defaulted to sshleifer/distilbart-cnn-12-6 (https://huggingface.co/sshleifer/distilbart-cnn-12-6)\n"
          ]
        }
      ]
    },
    {
      "cell_type": "code",
      "source": [
        "text= \"\"\"The rapid increase in research article submis\u0002sions across different venues is posing a signif\u0002icant management challenge for the journal ed\u0002itors and conference program chairs.Among the load of works like assigning reviewers, ensur\u0002ing timely receipt of reviews, slot-filling against the non-responding reviewer, taking informed de\u0002cisions, communicating to the authors, etc., edi\u0002tors/program chairs are usually overwhelmed with many such demanding yet crucial tasks. However, the major hurdle lies in to decide the acceptance and rejection of the manuscripts based on the re\u0002views received from the reviewers.The quality, randomness, bias, inconsistencies in peer reviews is well-debated across the aca\u0002demic community (Bornmann and Daniel, 2010). Due to the rise in article submissions and non\u0002availability of expert reviewers, editors/program chairs are sometimes left with no other options than to assign papers to the novice, out of domain reviewers which sometimes results in more incon\u0002sistencies and poor quality reviews. To study the arbitrariness inherent in the existing peer review system, organisers of the NIPS 2014 conference assigned 10% submissions to two different sets of reviewers and observed that the two commit\u0002tees disagreed for more than quarter of the papers (Langford and Guzdial, 2015). Again it is quite common that a paper rejected in one venue gets the cut in another with little or almost no improve\u0002ment in quality. Many are of the opinion that the existing peer review system is fragile as it only de\u0002pends on the view of a selected few (Smith, 2006). Moreover, even a preliminary study into the in\u0002ners of the peer review system is itself very diffi\u0002cult because of data confidentiality and copyright issues of the publishers. However, the silver lin\u0002ing is that the peer review system is evolving with the likes of OpenReviews2 , author response peri\u0002ods/rebuttals, increased effective communications between authors and reviewers, open access initia\u0002tives, peer review workshops, review forms\"\"\""
      ],
      "metadata": {
        "id": "vQFn7Sy8kRU6"
      },
      "execution_count": null,
      "outputs": []
    },
    {
      "cell_type": "markdown",
      "source": [
        "#Abstractive Summarization"
      ],
      "metadata": {
        "id": "ZpA8u0qVly-V"
      }
    },
    {
      "cell_type": "code",
      "source": [
        "summarization(text, max_length=200, min_length=50, do_sample=False)"
      ],
      "metadata": {
        "colab": {
          "base_uri": "https://localhost:8080/"
        },
        "id": "F9yKKpF-fe3T",
        "outputId": "d24577ae-34aa-4b32-afad-446f00ad441a"
      },
      "execution_count": null,
      "outputs": [
        {
          "output_type": "execute_result",
          "data": {
            "text/plain": [
              "[{'summary_text': ' The rapid increase in research article submissions across different venues is posing a management challenge for journal edicatingitors and conference program chairs . The quality, randomness, bias, inconsistencies in peer reviews is well-debated across the aca.demic community (Bornmann and Daniel, 2010)'}]"
            ]
          },
          "metadata": {},
          "execution_count": 65
        }
      ]
    }
  ]
}